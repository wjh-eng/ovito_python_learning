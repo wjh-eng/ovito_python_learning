{
 "cells": [
  {
   "cell_type": "code",
   "execution_count": 2,
   "id": "d07dcf37",
   "metadata": {},
   "outputs": [
    {
     "name": "stderr",
     "output_type": "stream",
     "text": [
      "Warning: Ignoring XDG_SESSION_TYPE=wayland on Gnome. Use QT_QPA_PLATFORM=wayland to run on Wayland anyway.\n"
     ]
    }
   ],
   "source": [
    "from ovito.io import import_file, export_file\n",
    "from ovito.modifiers import SelectTypeModifier, DeleteSelectedModifier\n",
    "\n",
    "pipeline = import_file('input_file.xyz')\n",
    "pipeline.modifiers.append(SelectTypeModifier(property='Particle Type', types={'C'}))\n",
    "pipeline.modifiers.append(DeleteSelectedModifier())\n",
    "export_file(pipeline, 'output_file.xyz', 'xyz', columns=['Particle Type', 'Position.X', 'Position.Y', 'Position.Z'])"
   ]
  },
  {
   "cell_type": "code",
   "execution_count": null,
   "id": "0764cf53",
   "metadata": {},
   "outputs": [],
   "source": []
  }
 ],
 "metadata": {
  "kernelspec": {
   "display_name": "Python [conda env:ovitoenvs]",
   "language": "python",
   "name": "conda-env-ovitoenvs-py"
  },
  "language_info": {
   "codemirror_mode": {
    "name": "ipython",
    "version": 3
   },
   "file_extension": ".py",
   "mimetype": "text/x-python",
   "name": "python",
   "nbconvert_exporter": "python",
   "pygments_lexer": "ipython3",
   "version": "3.10.6"
  }
 },
 "nbformat": 4,
 "nbformat_minor": 5
}

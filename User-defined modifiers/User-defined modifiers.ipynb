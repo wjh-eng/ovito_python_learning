{
 "cells": [
  {
   "cell_type": "markdown",
   "id": "7d0c1865",
   "metadata": {},
   "source": [
    "# Defining a modifier function"
   ]
  },
  {
   "cell_type": "code",
   "execution_count": 1,
   "id": "9a31f458",
   "metadata": {},
   "outputs": [
    {
     "ename": "IndentationError",
     "evalue": "expected an indented block (1777889733.py, line 1)",
     "output_type": "error",
     "traceback": [
      "\u001b[0;36m  File \u001b[0;32m\"/tmp/ipykernel_962984/1777889733.py\"\u001b[0;36m, line \u001b[0;32m1\u001b[0m\n\u001b[0;31m    def modify(frame, data):\u001b[0m\n\u001b[0m                            ^\u001b[0m\n\u001b[0;31mIndentationError\u001b[0m\u001b[0;31m:\u001b[0m expected an indented block\n"
     ]
    }
   ],
   "source": [
    "def modify(frame, data):\n"
   ]
  },
  {
   "cell_type": "code",
   "execution_count": 2,
   "id": "4b1d3794",
   "metadata": {},
   "outputs": [
    {
     "ename": "NameError",
     "evalue": "name 'pipeline' is not defined",
     "output_type": "error",
     "traceback": [
      "\u001b[0;31m---------------------------------------------------------------------------\u001b[0m",
      "\u001b[0;31mNameError\u001b[0m                                 Traceback (most recent call last)",
      "\u001b[0;32m/tmp/ipykernel_962984/2371478471.py\u001b[0m in \u001b[0;36m<module>\u001b[0;34m\u001b[0m\n\u001b[1;32m      4\u001b[0m \u001b[0;34m\u001b[0m\u001b[0m\n\u001b[1;32m      5\u001b[0m \u001b[0;31m# Insert the modifier function into a pipeline:\u001b[0m\u001b[0;34m\u001b[0m\u001b[0;34m\u001b[0m\u001b[0m\n\u001b[0;32m----> 6\u001b[0;31m \u001b[0mpipeline\u001b[0m\u001b[0;34m.\u001b[0m\u001b[0mmodifiers\u001b[0m\u001b[0;34m.\u001b[0m\u001b[0mappend\u001b[0m\u001b[0;34m(\u001b[0m\u001b[0mmy_mod_function\u001b[0m\u001b[0;34m)\u001b[0m\u001b[0;34m\u001b[0m\u001b[0;34m\u001b[0m\u001b[0m\n\u001b[0m\u001b[1;32m      7\u001b[0m \u001b[0;34m\u001b[0m\u001b[0m\n\u001b[1;32m      8\u001b[0m \u001b[0;31m# Pipeline evaluation: The system will invoke your user-defined function.\u001b[0m\u001b[0;34m\u001b[0m\u001b[0;34m\u001b[0m\u001b[0m\n",
      "\u001b[0;31mNameError\u001b[0m: name 'pipeline' is not defined"
     ]
    }
   ],
   "source": [
    "def my_mod_function(frame, data):\n",
    "    ...\n",
    "    ...\n",
    "\n",
    "# Insert the modifier function into a pipeline:\n",
    "pipeline.modifiers.append(my_mod_function)\n",
    "\n",
    "# Pipeline evaluation: The system will invoke your user-defined function.\n",
    "data = pipeline.compute()"
   ]
  },
  {
   "cell_type": "markdown",
   "id": "b10274a9",
   "metadata": {},
   "source": [
    "# Implementing a modifier function"
   ]
  },
  {
   "cell_type": "markdown",
   "id": "4b372ae1",
   "metadata": {},
   "source": [
    "## Writing well-behaved modifier functions"
   ]
  },
  {
   "cell_type": "code",
   "execution_count": 3,
   "id": "67a78c3c",
   "metadata": {},
   "outputs": [
    {
     "ename": "IndentationError",
     "evalue": "unexpected indent (469203770.py, line 11)",
     "output_type": "error",
     "traceback": [
      "\u001b[0;36m  File \u001b[0;32m\"/tmp/ipykernel_962984/469203770.py\"\u001b[0;36m, line \u001b[0;32m11\u001b[0m\n\u001b[0;31m    pipeline2 = import_file(...)\u001b[0m\n\u001b[0m    ^\u001b[0m\n\u001b[0;31mIndentationError\u001b[0m\u001b[0;31m:\u001b[0m unexpected indent\n"
     ]
    }
   ],
   "source": [
    "total_energy = 0.0  # A global variable accessed below\n",
    "\n",
    "def modify(time, data):\n",
    "\n",
    "    # Do NOT add modifiers to the current pipeline (because any changes made to a pipeline\n",
    "    # while it is being evaluated will lead to an infinite loop):\n",
    "   ovito.scene.selected_pipeline.modifiers.append(...)\n",
    "\n",
    "    # Do NOT insert new objects into the current scene (because a modifier function is only\n",
    "    # supposed to modify the data collection flowing down the pipeline):\n",
    "    pipeline2 = import_file(...)\n",
    "   pipeline2.add_to_scene()\n",
    "\n",
    "    # Do NOT modify global variables or objects (because the system may call your\n",
    "    # function an arbitrary number of times):\n",
    "   total_energy += numpy.sum(data.particles['Potential Energy'])\n",
    "\n",
    "    # Do NOT perform file I/O from within a modifier function because you don't know when\n",
    "    # and how often the pipeline system is going to call your function:\n",
    "   file = open('my_output.txt', 'w')"
   ]
  },
  {
   "cell_type": "markdown",
   "id": "a1380614",
   "metadata": {},
   "source": [
    "## How to save computed information to disk"
   ]
  },
  {
   "cell_type": "code",
   "execution_count": 4,
   "id": "ad669b34",
   "metadata": {},
   "outputs": [
    {
     "ename": "NameError",
     "evalue": "name 'import_file' is not defined",
     "output_type": "error",
     "traceback": [
      "\u001b[0;31m---------------------------------------------------------------------------\u001b[0m",
      "\u001b[0;31mNameError\u001b[0m                                 Traceback (most recent call last)",
      "\u001b[0;32m/tmp/ipykernel_962984/2834411780.py\u001b[0m in \u001b[0;36m<module>\u001b[0;34m\u001b[0m\n\u001b[0;32m----> 1\u001b[0;31m \u001b[0mpipeline\u001b[0m \u001b[0;34m=\u001b[0m \u001b[0mimport_file\u001b[0m\u001b[0;34m(\u001b[0m\u001b[0;34m...\u001b[0m\u001b[0;34m)\u001b[0m\u001b[0;34m\u001b[0m\u001b[0;34m\u001b[0m\u001b[0m\n\u001b[0m\u001b[1;32m      2\u001b[0m \u001b[0;32mfor\u001b[0m \u001b[0mframe\u001b[0m \u001b[0;32min\u001b[0m \u001b[0mrange\u001b[0m\u001b[0;34m(\u001b[0m\u001b[0mpipeline\u001b[0m\u001b[0;34m.\u001b[0m\u001b[0msource\u001b[0m\u001b[0;34m.\u001b[0m\u001b[0mnum_frames\u001b[0m\u001b[0;34m)\u001b[0m\u001b[0;34m:\u001b[0m\u001b[0;34m\u001b[0m\u001b[0;34m\u001b[0m\u001b[0m\n\u001b[1;32m      3\u001b[0m     \u001b[0mdata\u001b[0m \u001b[0;34m=\u001b[0m \u001b[0mpipeline\u001b[0m\u001b[0;34m.\u001b[0m\u001b[0mcompute\u001b[0m\u001b[0;34m(\u001b[0m\u001b[0mframe\u001b[0m\u001b[0;34m)\u001b[0m\u001b[0;34m\u001b[0m\u001b[0;34m\u001b[0m\u001b[0m\n\u001b[1;32m      4\u001b[0m     \u001b[0;34m...\u001b[0m\u001b[0;34m\u001b[0m\u001b[0;34m\u001b[0m\u001b[0m\n\u001b[1;32m      5\u001b[0m     \u001b[0;31m# Perform analysis of the current frame...\u001b[0m\u001b[0;34m\u001b[0m\u001b[0;34m\u001b[0m\u001b[0m\n",
      "\u001b[0;31mNameError\u001b[0m: name 'import_file' is not defined"
     ]
    }
   ],
   "source": [
    "pipeline = import_file(...)\n",
    "for frame in range(pipeline.source.num_frames):\n",
    "    data = pipeline.compute(frame)\n",
    "    ...\n",
    "    # Perform analysis of the current frame...\n",
    "    ...\n",
    "    # Write results to an output file using Python functions\n",
    "    file = open('output_file.%i.txt' % frame, 'w')\n",
    "    ..."
   ]
  },
  {
   "cell_type": "markdown",
   "id": "6b65d7b8",
   "metadata": {},
   "source": [
    "## One-time loading of input data"
   ]
  },
  {
   "cell_type": "code",
   "execution_count": 5,
   "id": "cbfc3bac",
   "metadata": {},
   "outputs": [
    {
     "ename": "ModuleNotFoundError",
     "evalue": "No module named 'ovito'",
     "output_type": "error",
     "traceback": [
      "\u001b[0;31m---------------------------------------------------------------------------\u001b[0m",
      "\u001b[0;31mModuleNotFoundError\u001b[0m                       Traceback (most recent call last)",
      "\u001b[0;32m/tmp/ipykernel_962984/3007378939.py\u001b[0m in \u001b[0;36m<module>\u001b[0;34m\u001b[0m\n\u001b[0;32m----> 1\u001b[0;31m \u001b[0;32mfrom\u001b[0m \u001b[0movito\u001b[0m\u001b[0;34m.\u001b[0m\u001b[0mio\u001b[0m \u001b[0;32mimport\u001b[0m \u001b[0mimport_file\u001b[0m\u001b[0;34m\u001b[0m\u001b[0;34m\u001b[0m\u001b[0m\n\u001b[0m\u001b[1;32m      2\u001b[0m \u001b[0;32mfrom\u001b[0m \u001b[0movito\u001b[0m\u001b[0;34m.\u001b[0m\u001b[0mpipeline\u001b[0m \u001b[0;32mimport\u001b[0m \u001b[0mFileSource\u001b[0m\u001b[0;34m\u001b[0m\u001b[0;34m\u001b[0m\u001b[0m\n\u001b[1;32m      3\u001b[0m \u001b[0;34m\u001b[0m\u001b[0m\n\u001b[1;32m      4\u001b[0m \u001b[0;31m# Load the reference particle configuration in a one-time initialization step\u001b[0m\u001b[0;34m\u001b[0m\u001b[0;34m\u001b[0m\u001b[0m\n\u001b[1;32m      5\u001b[0m \u001b[0;31m# outside of the modifier function:\u001b[0m\u001b[0;34m\u001b[0m\u001b[0;34m\u001b[0m\u001b[0m\n",
      "\u001b[0;31mModuleNotFoundError\u001b[0m: No module named 'ovito'"
     ]
    }
   ],
   "source": [
    "from ovito.io import import_file\n",
    "from ovito.pipeline import FileSource\n",
    "\n",
    "# Load the reference particle configuration in a one-time initialization step\n",
    "# outside of the modifier function:\n",
    "reference = FileSource()\n",
    "reference.load(\"input/simulation.0.dump\", sort_particles=True)\n",
    "\n",
    "def modify(frame, data):\n",
    "    displacements = data.particles.positions - reference.data.particles.positions\n",
    "    data.particles_.create_property('Displacement', data=displacements)"
   ]
  },
  {
   "cell_type": "markdown",
   "id": "35bbd4a1",
   "metadata": {},
   "source": [
    "## Long-running modifier functions"
   ]
  },
  {
   "cell_type": "code",
   "execution_count": 6,
   "id": "6dfc62e0",
   "metadata": {},
   "outputs": [],
   "source": [
    "def modify(frame, data):\n",
    "    # This is a long-running loop over all particles in the system:\n",
    "    for i in range(data.particles.count):\n",
    "        # Perform one short computational step:\n",
    "        ...\n",
    "        # Temporarily yield control to the system to process input events:\n",
    "        yield"
   ]
  },
  {
   "cell_type": "code",
   "execution_count": 7,
   "id": "84f4b85b",
   "metadata": {},
   "outputs": [],
   "source": [
    "def modify(frame, data):\n",
    "    for i in range(data.particles.count):\n",
    "        ...\n",
    "        yield (i / data.particles.count)"
   ]
  },
  {
   "cell_type": "code",
   "execution_count": 8,
   "id": "71093f2b",
   "metadata": {},
   "outputs": [],
   "source": [
    "def modify(frame, data):\n",
    "    yield \"Performing an analysis...\"\n",
    "    ..."
   ]
  },
  {
   "cell_type": "code",
   "execution_count": null,
   "id": "ed0830c3",
   "metadata": {},
   "outputs": [],
   "source": []
  }
 ],
 "metadata": {
  "kernelspec": {
   "display_name": "Python 3 (ipykernel)",
   "language": "python",
   "name": "python3"
  },
  "language_info": {
   "codemirror_mode": {
    "name": "ipython",
    "version": 3
   },
   "file_extension": ".py",
   "mimetype": "text/x-python",
   "name": "python",
   "nbconvert_exporter": "python",
   "pygments_lexer": "ipython3",
   "version": "3.9.13"
  }
 },
 "nbformat": 4,
 "nbformat_minor": 5
}

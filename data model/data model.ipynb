{
 "cells": [
  {
   "cell_type": "markdown",
   "id": "dca5663b",
   "metadata": {},
   "source": [
    "# 数据模型"
   ]
  },
  {
   "cell_type": "markdown",
   "id": "9e39d81f",
   "metadata": {},
   "source": [
    "![datacollection](data_objects.svg)"
   ]
  },
  {
   "cell_type": "markdown",
   "id": "f2b3d507",
   "metadata": {},
   "source": [
    "所有数据对象particles，simuulationcells继承于DataObject类"
   ]
  },
  {
   "cell_type": "markdown",
   "id": "24280cd7",
   "metadata": {},
   "source": [
    "## 粒子容器"
   ]
  },
  {
   "cell_type": "markdown",
   "id": "93f49b43",
   "metadata": {},
   "source": [
    "![particles](particles_object.svg)"
   ]
  },
  {
   "cell_type": "code",
   "execution_count": 1,
   "id": "858c16d9",
   "metadata": {},
   "outputs": [
    {
     "ename": "NameError",
     "evalue": "name 'pipeline' is not defined",
     "output_type": "error",
     "traceback": [
      "\u001b[0;31m---------------------------------------------------------------------------\u001b[0m",
      "\u001b[0;31mNameError\u001b[0m                                 Traceback (most recent call last)",
      "Cell \u001b[0;32mIn[1], line 1\u001b[0m\n\u001b[0;32m----> 1\u001b[0m data \u001b[38;5;241m=\u001b[39m \u001b[43mpipeline\u001b[49m\u001b[38;5;241m.\u001b[39mcompute()\n\u001b[1;32m      2\u001b[0m \u001b[38;5;28mlist\u001b[39m(data\u001b[38;5;241m.\u001b[39mparticles\u001b[38;5;241m.\u001b[39mkeys())\n\u001b[1;32m      3\u001b[0m [\u001b[38;5;124m'\u001b[39m\u001b[38;5;124mParticle Identifier\u001b[39m\u001b[38;5;124m'\u001b[39m, \u001b[38;5;124m'\u001b[39m\u001b[38;5;124mParticle Type\u001b[39m\u001b[38;5;124m'\u001b[39m, \u001b[38;5;124m'\u001b[39m\u001b[38;5;124mPosition\u001b[39m\u001b[38;5;124m'\u001b[39m, \u001b[38;5;124m'\u001b[39m\u001b[38;5;124mColor\u001b[39m\u001b[38;5;124m'\u001b[39m]\n",
      "\u001b[0;31mNameError\u001b[0m: name 'pipeline' is not defined"
     ]
    }
   ],
   "source": [
    ">>> data = pipeline.compute()\n",
    ">>> list(data.particles.keys())\n",
    "['Particle Identifier', 'Particle Type', 'Position', 'Color']"
   ]
  },
  {
   "cell_type": "code",
   "execution_count": 2,
   "id": "87f57277",
   "metadata": {},
   "outputs": [
    {
     "ename": "NameError",
     "evalue": "name 'data' is not defined",
     "output_type": "error",
     "traceback": [
      "\u001b[0;31m---------------------------------------------------------------------------\u001b[0m",
      "\u001b[0;31mNameError\u001b[0m                                 Traceback (most recent call last)",
      "Cell \u001b[0;32mIn[2], line 1\u001b[0m\n\u001b[0;32m----> 1\u001b[0m color_property \u001b[38;5;241m=\u001b[39m \u001b[43mdata\u001b[49m\u001b[38;5;241m.\u001b[39mparticles[\u001b[38;5;124m'\u001b[39m\u001b[38;5;124mColor\u001b[39m\u001b[38;5;124m'\u001b[39m]\n",
      "\u001b[0;31mNameError\u001b[0m: name 'data' is not defined"
     ]
    }
   ],
   "source": [
    "color_property = data.particles['Color']"
   ]
  },
  {
   "cell_type": "code",
   "execution_count": 3,
   "id": "19f2c70f",
   "metadata": {},
   "outputs": [
    {
     "ename": "NameError",
     "evalue": "name 'data' is not defined",
     "output_type": "error",
     "traceback": [
      "\u001b[0;31m---------------------------------------------------------------------------\u001b[0m",
      "\u001b[0;31mNameError\u001b[0m                                 Traceback (most recent call last)",
      "Cell \u001b[0;32mIn[3], line 1\u001b[0m\n\u001b[0;32m----> 1\u001b[0m color_property \u001b[38;5;241m=\u001b[39m \u001b[43mdata\u001b[49m\u001b[38;5;241m.\u001b[39mparticles\u001b[38;5;241m.\u001b[39mcolors\n",
      "\u001b[0;31mNameError\u001b[0m: name 'data' is not defined"
     ]
    }
   ],
   "source": [
    "color_property = data.particles.colors"
   ]
  },
  {
   "cell_type": "markdown",
   "id": "1caf77cd",
   "metadata": {},
   "source": [
    "## 属性对象"
   ]
  },
  {
   "cell_type": "code",
   "execution_count": 4,
   "id": "4c491e85",
   "metadata": {},
   "outputs": [
    {
     "ename": "NameError",
     "evalue": "name 'data' is not defined",
     "output_type": "error",
     "traceback": [
      "\u001b[0;31m---------------------------------------------------------------------------\u001b[0m",
      "\u001b[0;31mNameError\u001b[0m                                 Traceback (most recent call last)",
      "Cell \u001b[0;32mIn[4], line 1\u001b[0m\n\u001b[0;32m----> 1\u001b[0m coordinates \u001b[38;5;241m=\u001b[39m \u001b[43mdata\u001b[49m\u001b[38;5;241m.\u001b[39mparticles\u001b[38;5;241m.\u001b[39mpositions\n",
      "\u001b[0;31mNameError\u001b[0m: name 'data' is not defined"
     ]
    }
   ],
   "source": [
    "coordinates = data.particles.positions"
   ]
  },
  {
   "cell_type": "code",
   "execution_count": 5,
   "id": "917004d9",
   "metadata": {},
   "outputs": [
    {
     "ename": "SyntaxError",
     "evalue": "invalid syntax. Perhaps you forgot a comma? (3464110283.py, line 2)",
     "output_type": "error",
     "traceback": [
      "\u001b[0;36m  Cell \u001b[0;32mIn[5], line 2\u001b[0;36m\u001b[0m\n\u001b[0;31m    [[ 73.24230194  -5.77583981  -0.87618297]\u001b[0m\n\u001b[0m     ^\u001b[0m\n\u001b[0;31mSyntaxError\u001b[0m\u001b[0;31m:\u001b[0m invalid syntax. Perhaps you forgot a comma?\n"
     ]
    }
   ],
   "source": [
    "print(coordinates[...])\n",
    "[[ 73.24230194  -5.77583981  -0.87618297]\n",
    " [-49.00170135 -35.47610092 -27.92519951]\n",
    " [-50.36349869 -39.02569962 -25.61310005]\n",
    " ...,\n",
    " [ 42.71210098  59.44919968  38.6432991 ]\n",
    " [ 42.9917984   63.53770065  36.33330154]\n",
    " [ 44.17670059  61.49860001  37.5401001 ]]"
   ]
  },
  {
   "cell_type": "code",
   "execution_count": 6,
   "id": "dea6ea9e",
   "metadata": {},
   "outputs": [
    {
     "ename": "NameError",
     "evalue": "name 'data' is not defined",
     "output_type": "error",
     "traceback": [
      "\u001b[0;31m---------------------------------------------------------------------------\u001b[0m",
      "\u001b[0;31mNameError\u001b[0m                                 Traceback (most recent call last)",
      "Cell \u001b[0;32mIn[6], line 1\u001b[0m\n\u001b[0;32m----> 1\u001b[0m \u001b[43mdata\u001b[49m\u001b[38;5;241m.\u001b[39mparticles\u001b[38;5;241m.\u001b[39mcount\n",
      "\u001b[0;31mNameError\u001b[0m: name 'data' is not defined"
     ]
    }
   ],
   "source": [
    "data.particles.count  # Number of particles"
   ]
  },
  {
   "cell_type": "code",
   "execution_count": 7,
   "id": "281c4159",
   "metadata": {},
   "outputs": [
    {
     "ename": "NameError",
     "evalue": "name 'data' is not defined",
     "output_type": "error",
     "traceback": [
      "\u001b[0;31m---------------------------------------------------------------------------\u001b[0m",
      "\u001b[0;31mNameError\u001b[0m                                 Traceback (most recent call last)",
      "Cell \u001b[0;32mIn[7], line 1\u001b[0m\n\u001b[0;32m----> 1\u001b[0m \u001b[43mdata\u001b[49m\u001b[38;5;241m.\u001b[39mparticles[\u001b[38;5;124m'\u001b[39m\u001b[38;5;124mMass\u001b[39m\u001b[38;5;124m'\u001b[39m]\u001b[38;5;241m.\u001b[39mshape\n",
      "\u001b[0;31mNameError\u001b[0m: name 'data' is not defined"
     ]
    }
   ],
   "source": [
    "data.particles['Mass'].shape   # 1-dim. array"
   ]
  },
  {
   "cell_type": "code",
   "execution_count": 8,
   "id": "381fb64e",
   "metadata": {},
   "outputs": [
    {
     "ename": "NameError",
     "evalue": "name 'data' is not defined",
     "output_type": "error",
     "traceback": [
      "\u001b[0;31m---------------------------------------------------------------------------\u001b[0m",
      "\u001b[0;31mNameError\u001b[0m                                 Traceback (most recent call last)",
      "Cell \u001b[0;32mIn[8], line 1\u001b[0m\n\u001b[0;32m----> 1\u001b[0m \u001b[43mdata\u001b[49m\u001b[38;5;241m.\u001b[39mparticles[\u001b[38;5;124m'\u001b[39m\u001b[38;5;124mColor\u001b[39m\u001b[38;5;124m'\u001b[39m]\u001b[38;5;241m.\u001b[39mshape\n",
      "\u001b[0;31mNameError\u001b[0m: name 'data' is not defined"
     ]
    }
   ],
   "source": [
    "data.particles['Color'].shape  # 2-dim. array"
   ]
  },
  {
   "cell_type": "code",
   "execution_count": 9,
   "id": "4090c763",
   "metadata": {
    "scrolled": true
   },
   "outputs": [
    {
     "ename": "NameError",
     "evalue": "name 'data' is not defined",
     "output_type": "error",
     "traceback": [
      "\u001b[0;31m---------------------------------------------------------------------------\u001b[0m",
      "\u001b[0;31mNameError\u001b[0m                                 Traceback (most recent call last)",
      "Cell \u001b[0;32mIn[9], line 1\u001b[0m\n\u001b[0;32m----> 1\u001b[0m \u001b[43mdata\u001b[49m\u001b[38;5;241m.\u001b[39mparticles[\u001b[38;5;124m'\u001b[39m\u001b[38;5;124mColor\u001b[39m\u001b[38;5;124m'\u001b[39m]\u001b[38;5;241m.\u001b[39mdtype\n",
      "\u001b[0;31mNameError\u001b[0m: name 'data' is not defined"
     ]
    }
   ],
   "source": [
    "data.particles['Color'].dtype  # Data type of property array"
   ]
  },
  {
   "cell_type": "markdown",
   "id": "e7fa74dd",
   "metadata": {},
   "source": [
    "## 全局属性"
   ]
  },
  {
   "cell_type": "markdown",
   "id": "4858d2ca",
   "metadata": {},
   "source": [
    "DataCollection.attributes"
   ]
  },
  {
   "cell_type": "markdown",
   "id": "6a13ec81",
   "metadata": {},
   "source": [
    "## 数据表"
   ]
  },
  {
   "cell_type": "markdown",
   "id": "7fa33a8a",
   "metadata": {},
   "source": [
    "Tabulated data is represented in OVITO by **DataTable** objects, which are a specialized type of **PropertyContainer**"
   ]
  },
  {
   "cell_type": "code",
   "execution_count": null,
   "id": "65ec6644",
   "metadata": {},
   "outputs": [],
   "source": []
  }
 ],
 "metadata": {
  "kernelspec": {
   "display_name": "myovito",
   "language": "python",
   "name": "myovito"
  },
  "language_info": {
   "codemirror_mode": {
    "name": "ipython",
    "version": 3
   },
   "file_extension": ".py",
   "mimetype": "text/x-python",
   "name": "python",
   "nbconvert_exporter": "python",
   "pygments_lexer": "ipython3",
   "version": "3.10.8"
  }
 },
 "nbformat": 4,
 "nbformat_minor": 5
}

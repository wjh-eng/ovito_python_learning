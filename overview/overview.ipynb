{
 "cells": [
  {
   "cell_type": "markdown",
   "id": "425baabb",
   "metadata": {},
   "source": [
    "# 数据结构"
   ]
  },
  {
   "cell_type": "markdown",
   "id": "b9882ea7",
   "metadata": {},
   "source": [
    "![结构图](Pipeline_overview.svg)"
   ]
  },
  {
   "cell_type": "markdown",
   "id": "f09c1b4c",
   "metadata": {},
   "source": [
    "输入数据文件是FileSource类，经过管道进行修饰"
   ]
  },
  {
   "cell_type": "markdown",
   "id": "4ef08af6",
   "metadata": {},
   "source": [
    "# 从磁盘读取数据"
   ]
  },
  {
   "cell_type": "code",
   "execution_count": 1,
   "id": "5d87b505",
   "metadata": {},
   "outputs": [
    {
     "name": "stderr",
     "output_type": "stream",
     "text": [
      "Warning: Ignoring XDG_SESSION_TYPE=wayland on Gnome. Use QT_QPA_PLATFORM=wayland to run on Wayland anyway.\n"
     ]
    },
    {
     "ename": "RuntimeError",
     "evalue": "File does not exist:\nsimulation.dump",
     "output_type": "error",
     "traceback": [
      "\u001b[0;31m---------------------------------------------------------------------------\u001b[0m",
      "\u001b[0;31mRuntimeError\u001b[0m                              Traceback (most recent call last)",
      "Cell \u001b[0;32mIn [1], line 2\u001b[0m\n\u001b[1;32m      1\u001b[0m \u001b[38;5;28;01mfrom\u001b[39;00m \u001b[38;5;21;01movito\u001b[39;00m\u001b[38;5;21;01m.\u001b[39;00m\u001b[38;5;21;01mio\u001b[39;00m \u001b[38;5;28;01mimport\u001b[39;00m import_file\n\u001b[0;32m----> 2\u001b[0m pipeline \u001b[38;5;241m=\u001b[39m \u001b[43mimport_file\u001b[49m\u001b[43m(\u001b[49m\u001b[38;5;124;43m\"\u001b[39;49m\u001b[38;5;124;43msimulation.dump\u001b[39;49m\u001b[38;5;124;43m\"\u001b[39;49m\u001b[43m)\u001b[49m\n",
      "File \u001b[0;32m/usr/local/anaconda3/envs/ovitoenvs/lib/python3.10/site-packages/ovito/io/import_file_func.py:151\u001b[0m, in \u001b[0;36mimport_file\u001b[0;34m(location, **params)\u001b[0m\n\u001b[1;32m    148\u001b[0m     importer \u001b[38;5;241m=\u001b[39m import_file\u001b[38;5;241m.\u001b[39m_formatTable[\u001b[38;5;28mformat\u001b[39m]()\n\u001b[1;32m    149\u001b[0m \u001b[38;5;28;01melse\u001b[39;00m:\n\u001b[1;32m    150\u001b[0m     \u001b[38;5;66;03m# Auto-detect the file's format if caller did not specify the format explicitly.\u001b[39;00m\n\u001b[0;32m--> 151\u001b[0m     importer \u001b[38;5;241m=\u001b[39m \u001b[43mFileImporter\u001b[49m\u001b[38;5;241;43m.\u001b[39;49m\u001b[43mautodetect_format\u001b[49m\u001b[43m(\u001b[49m\u001b[43mfirst_location\u001b[49m\u001b[43m)\u001b[49m\n\u001b[1;32m    152\u001b[0m     \u001b[38;5;28;01mif\u001b[39;00m \u001b[38;5;129;01mnot\u001b[39;00m importer:\n\u001b[1;32m    153\u001b[0m         \u001b[38;5;28;01mraise\u001b[39;00m \u001b[38;5;167;01mRuntimeError\u001b[39;00m(\u001b[38;5;124m\"\u001b[39m\u001b[38;5;124mCould not detect the file format. The format might not be supported.\u001b[39m\u001b[38;5;124m\"\u001b[39m)\n",
      "\u001b[0;31mRuntimeError\u001b[0m: File does not exist:\nsimulation.dump"
     ]
    }
   ],
   "source": [
    "from ovito.io import import_file\n",
    "pipeline = import_file(\"simulation.dump\")"
   ]
  },
  {
   "cell_type": "code",
   "execution_count": null,
   "id": "03b6c06b",
   "metadata": {},
   "outputs": [],
   "source": [
    "print(pipeline.source)"
   ]
  },
  {
   "cell_type": "markdown",
   "id": "4d5eef8c",
   "metadata": {},
   "source": [
    "pipeline.source  得到 FileSource对象， pipeline中的FileSource可以随时更改数据"
   ]
  },
  {
   "cell_type": "code",
   "execution_count": null,
   "id": "23717a8c",
   "metadata": {},
   "outputs": [],
   "source": []
  }
 ],
 "metadata": {
  "kernelspec": {
   "display_name": "Python [conda env:ovitoenvs]",
   "language": "python",
   "name": "conda-env-ovitoenvs-py"
  },
  "language_info": {
   "codemirror_mode": {
    "name": "ipython",
    "version": 3
   },
   "file_extension": ".py",
   "mimetype": "text/x-python",
   "name": "python",
   "nbconvert_exporter": "python",
   "pygments_lexer": "ipython3",
   "version": "3.10.6"
  }
 },
 "nbformat": 4,
 "nbformat_minor": 5
}

{
 "cells": [
  {
   "cell_type": "markdown",
   "id": "425baabb",
   "metadata": {},
   "source": [
    "# 数据结构"
   ]
  },
  {
   "cell_type": "markdown",
   "id": "b9882ea7",
   "metadata": {},
   "source": [
    "![结构图](Pipeline_overview.svg)"
   ]
  },
  {
   "cell_type": "markdown",
   "id": "f09c1b4c",
   "metadata": {},
   "source": [
    "输入数据文件是FileSource类，经过管道进行修饰"
   ]
  },
  {
   "cell_type": "markdown",
   "id": "4ef08af6",
   "metadata": {},
   "source": [
    "# 从磁盘读取数据"
   ]
  },
  {
   "cell_type": "code",
   "execution_count": 1,
   "id": "5d87b505",
   "metadata": {
    "collapsed": true
   },
   "outputs": [
    {
     "name": "stderr",
     "output_type": "stream",
     "text": [
      "Warning: Ignoring XDG_SESSION_TYPE=wayland on Gnome. Use QT_QPA_PLATFORM=wayland to run on Wayland anyway.\n"
     ]
    },
    {
     "ename": "RuntimeError",
     "evalue": "File does not exist:\nsimulation.dump",
     "output_type": "error",
     "traceback": [
      "\u001b[0;31m---------------------------------------------------------------------------\u001b[0m",
      "\u001b[0;31mRuntimeError\u001b[0m                              Traceback (most recent call last)",
      "Cell \u001b[0;32mIn [1], line 2\u001b[0m\n\u001b[1;32m      1\u001b[0m \u001b[38;5;28;01mfrom\u001b[39;00m \u001b[38;5;21;01movito\u001b[39;00m\u001b[38;5;21;01m.\u001b[39;00m\u001b[38;5;21;01mio\u001b[39;00m \u001b[38;5;28;01mimport\u001b[39;00m import_file\n\u001b[0;32m----> 2\u001b[0m pipeline \u001b[38;5;241m=\u001b[39m \u001b[43mimport_file\u001b[49m\u001b[43m(\u001b[49m\u001b[38;5;124;43m\"\u001b[39;49m\u001b[38;5;124;43msimulation.dump\u001b[39;49m\u001b[38;5;124;43m\"\u001b[39;49m\u001b[43m)\u001b[49m\n",
      "File \u001b[0;32m/usr/local/anaconda3/envs/ovitoenvs/lib/python3.10/site-packages/ovito/io/import_file_func.py:151\u001b[0m, in \u001b[0;36mimport_file\u001b[0;34m(location, **params)\u001b[0m\n\u001b[1;32m    148\u001b[0m     importer \u001b[38;5;241m=\u001b[39m import_file\u001b[38;5;241m.\u001b[39m_formatTable[\u001b[38;5;28mformat\u001b[39m]()\n\u001b[1;32m    149\u001b[0m \u001b[38;5;28;01melse\u001b[39;00m:\n\u001b[1;32m    150\u001b[0m     \u001b[38;5;66;03m# Auto-detect the file's format if caller did not specify the format explicitly.\u001b[39;00m\n\u001b[0;32m--> 151\u001b[0m     importer \u001b[38;5;241m=\u001b[39m \u001b[43mFileImporter\u001b[49m\u001b[38;5;241;43m.\u001b[39;49m\u001b[43mautodetect_format\u001b[49m\u001b[43m(\u001b[49m\u001b[43mfirst_location\u001b[49m\u001b[43m)\u001b[49m\n\u001b[1;32m    152\u001b[0m     \u001b[38;5;28;01mif\u001b[39;00m \u001b[38;5;129;01mnot\u001b[39;00m importer:\n\u001b[1;32m    153\u001b[0m         \u001b[38;5;28;01mraise\u001b[39;00m \u001b[38;5;167;01mRuntimeError\u001b[39;00m(\u001b[38;5;124m\"\u001b[39m\u001b[38;5;124mCould not detect the file format. The format might not be supported.\u001b[39m\u001b[38;5;124m\"\u001b[39m)\n",
      "\u001b[0;31mRuntimeError\u001b[0m: File does not exist:\nsimulation.dump"
     ]
    }
   ],
   "source": [
    "from ovito.io import import_file\n",
    "pipeline = import_file(\"simulation.dump\")"
   ]
  },
  {
   "cell_type": "code",
   "execution_count": null,
   "id": "03b6c06b",
   "metadata": {},
   "outputs": [],
   "source": [
    "print(pipeline.source)"
   ]
  },
  {
   "cell_type": "markdown",
   "id": "4d5eef8c",
   "metadata": {},
   "source": [
    "pipeline.source  得到 FileSource对象， pipeline中的FileSource可以随时更改数据"
   ]
  },
  {
   "cell_type": "markdown",
   "id": "6ca0dc6d",
   "metadata": {},
   "source": [
    "# 应用修改器"
   ]
  },
  {
   "cell_type": "code",
   "execution_count": 1,
   "id": "92956607",
   "metadata": {
    "collapsed": true
   },
   "outputs": [
    {
     "name": "stderr",
     "output_type": "stream",
     "text": [
      "Warning: Ignoring XDG_SESSION_TYPE=wayland on Gnome. Use QT_QPA_PLATFORM=wayland to run on Wayland anyway.\n"
     ]
    },
    {
     "ename": "NameError",
     "evalue": "name 'pipeline' is not defined",
     "output_type": "error",
     "traceback": [
      "\u001b[0;31m---------------------------------------------------------------------------\u001b[0m",
      "\u001b[0;31mNameError\u001b[0m                                 Traceback (most recent call last)",
      "Cell \u001b[0;32mIn [1], line 2\u001b[0m\n\u001b[1;32m      1\u001b[0m \u001b[38;5;28;01mfrom\u001b[39;00m \u001b[38;5;21;01movito\u001b[39;00m\u001b[38;5;21;01m.\u001b[39;00m\u001b[38;5;21;01mmodifiers\u001b[39;00m \u001b[38;5;28;01mimport\u001b[39;00m \u001b[38;5;241m*\u001b[39m\n\u001b[0;32m----> 2\u001b[0m \u001b[43mpipeline\u001b[49m\u001b[38;5;241m.\u001b[39mmodifiers\u001b[38;5;241m.\u001b[39mappend(ColorCodingModifier(\u001b[38;5;28mproperty\u001b[39m \u001b[38;5;241m=\u001b[39m \u001b[38;5;124m'\u001b[39m\u001b[38;5;124mPotential Energy\u001b[39m\u001b[38;5;124m'\u001b[39m))\n\u001b[1;32m      3\u001b[0m pipeline\u001b[38;5;241m.\u001b[39mmodifiers\u001b[38;5;241m.\u001b[39mappend(SliceModifier(normal \u001b[38;5;241m=\u001b[39m (\u001b[38;5;241m0\u001b[39m,\u001b[38;5;241m0\u001b[39m,\u001b[38;5;241m1\u001b[39m)))\n",
      "\u001b[0;31mNameError\u001b[0m: name 'pipeline' is not defined"
     ]
    }
   ],
   "source": [
    "from ovito.modifiers import *\n",
    "pipeline.modifiers.append(ColorCodingModifier(property = 'Potential Energy'))\n",
    "pipeline.modifiers.append(SliceModifier(normal = (0,0,1)))"
   ]
  },
  {
   "cell_type": "markdown",
   "id": "9f6035be",
   "metadata": {},
   "source": [
    "两种添加修改器的方法"
   ]
  },
  {
   "cell_type": "code",
   "execution_count": 2,
   "id": "8d54bc76",
   "metadata": {
    "collapsed": true
   },
   "outputs": [
    {
     "ename": "NameError",
     "evalue": "name 'pipeline' is not defined",
     "output_type": "error",
     "traceback": [
      "\u001b[0;31m---------------------------------------------------------------------------\u001b[0m",
      "\u001b[0;31mNameError\u001b[0m                                 Traceback (most recent call last)",
      "Cell \u001b[0;32mIn [2], line 1\u001b[0m\n\u001b[0;32m----> 1\u001b[0m \u001b[43mpipeline\u001b[49m\u001b[38;5;241m.\u001b[39mmodifiers\u001b[38;5;241m.\u001b[39mappend(CommonNeighborAnalysisModifier(cutoff\u001b[38;5;241m=\u001b[39m\u001b[38;5;241m3.2\u001b[39m, only_selected\u001b[38;5;241m=\u001b[39m\u001b[38;5;28;01mTrue\u001b[39;00m))\n",
      "\u001b[0;31mNameError\u001b[0m: name 'pipeline' is not defined"
     ]
    }
   ],
   "source": [
    "pipeline.modifiers.append(CommonNeighborAnalysisModifier(cutoff=3.2, only_selected=True))"
   ]
  },
  {
   "cell_type": "code",
   "execution_count": 3,
   "id": "3bc53033",
   "metadata": {
    "collapsed": true
   },
   "outputs": [
    {
     "ename": "NameError",
     "evalue": "name 'pipeline' is not defined",
     "output_type": "error",
     "traceback": [
      "\u001b[0;31m---------------------------------------------------------------------------\u001b[0m",
      "\u001b[0;31mNameError\u001b[0m                                 Traceback (most recent call last)",
      "Cell \u001b[0;32mIn [3], line 4\u001b[0m\n\u001b[1;32m      2\u001b[0m modifier\u001b[38;5;241m.\u001b[39mcutoff \u001b[38;5;241m=\u001b[39m \u001b[38;5;241m3.2\u001b[39m\n\u001b[1;32m      3\u001b[0m modifier\u001b[38;5;241m.\u001b[39monly_selected \u001b[38;5;241m=\u001b[39m \u001b[38;5;28;01mTrue\u001b[39;00m\n\u001b[0;32m----> 4\u001b[0m \u001b[43mpipeline\u001b[49m\u001b[38;5;241m.\u001b[39mmodifiers\u001b[38;5;241m.\u001b[39mappend(modifier)\n",
      "\u001b[0;31mNameError\u001b[0m: name 'pipeline' is not defined"
     ]
    }
   ],
   "source": [
    "modifier = CommonNeighborAnalysisModifier()\n",
    "modifier.cutoff = 3.2\n",
    "modifier.only_selected = True\n",
    "pipeline.modifiers.append(modifier)"
   ]
  },
  {
   "cell_type": "markdown",
   "id": "8de7880b",
   "metadata": {},
   "source": [
    "# 导出数据"
   ]
  },
  {
   "cell_type": "code",
   "execution_count": 4,
   "id": "d07e854f",
   "metadata": {
    "collapsed": true
   },
   "outputs": [
    {
     "ename": "NameError",
     "evalue": "name 'pipeline' is not defined",
     "output_type": "error",
     "traceback": [
      "\u001b[0;31m---------------------------------------------------------------------------\u001b[0m",
      "\u001b[0;31mNameError\u001b[0m                                 Traceback (most recent call last)",
      "Cell \u001b[0;32mIn [4], line 2\u001b[0m\n\u001b[1;32m      1\u001b[0m \u001b[38;5;28;01mfrom\u001b[39;00m \u001b[38;5;21;01movito\u001b[39;00m\u001b[38;5;21;01m.\u001b[39;00m\u001b[38;5;21;01mio\u001b[39;00m \u001b[38;5;28;01mimport\u001b[39;00m export_file\n\u001b[0;32m----> 2\u001b[0m export_file(\u001b[43mpipeline\u001b[49m, \u001b[38;5;124m\"\u001b[39m\u001b[38;5;124moutputdata.dump\u001b[39m\u001b[38;5;124m\"\u001b[39m, \u001b[38;5;124m\"\u001b[39m\u001b[38;5;124mlammps/dump\u001b[39m\u001b[38;5;124m\"\u001b[39m,\n\u001b[1;32m      3\u001b[0m     columns \u001b[38;5;241m=\u001b[39m [\u001b[38;5;124m\"\u001b[39m\u001b[38;5;124mPosition.X\u001b[39m\u001b[38;5;124m\"\u001b[39m, \u001b[38;5;124m\"\u001b[39m\u001b[38;5;124mPosition.Y\u001b[39m\u001b[38;5;124m\"\u001b[39m, \u001b[38;5;124m\"\u001b[39m\u001b[38;5;124mPosition.Z\u001b[39m\u001b[38;5;124m\"\u001b[39m, \u001b[38;5;124m\"\u001b[39m\u001b[38;5;124mStructure Type\u001b[39m\u001b[38;5;124m\"\u001b[39m])\n",
      "\u001b[0;31mNameError\u001b[0m: name 'pipeline' is not defined"
     ]
    }
   ],
   "source": [
    "from ovito.io import export_file\n",
    "export_file(pipeline, \"outputdata.dump\", \"lammps/dump\",\n",
    "    columns = [\"Position.X\", \"Position.Y\", \"Position.Z\", \"Structure Type\"])"
   ]
  },
  {
   "cell_type": "markdown",
   "id": "2e24c1f7",
   "metadata": {},
   "source": [
    "# 得到计算结果"
   ]
  },
  {
   "cell_type": "code",
   "execution_count": 5,
   "id": "4c792550",
   "metadata": {
    "collapsed": true
   },
   "outputs": [
    {
     "ename": "NameError",
     "evalue": "name 'pipeline' is not defined",
     "output_type": "error",
     "traceback": [
      "\u001b[0;31m---------------------------------------------------------------------------\u001b[0m",
      "\u001b[0;31mNameError\u001b[0m                                 Traceback (most recent call last)",
      "Cell \u001b[0;32mIn [5], line 1\u001b[0m\n\u001b[0;32m----> 1\u001b[0m data \u001b[38;5;241m=\u001b[39m \u001b[43mpipeline\u001b[49m\u001b[38;5;241m.\u001b[39mcompute()\n",
      "\u001b[0;31mNameError\u001b[0m: name 'pipeline' is not defined"
     ]
    }
   ],
   "source": [
    "data = pipeline.compute()"
   ]
  },
  {
   "cell_type": "code",
   "execution_count": 7,
   "id": "59d8616f",
   "metadata": {
    "collapsed": true
   },
   "outputs": [
    {
     "ename": "NameError",
     "evalue": "name 'data' is not defined",
     "output_type": "error",
     "traceback": [
      "\u001b[0;31m---------------------------------------------------------------------------\u001b[0m",
      "\u001b[0;31mNameError\u001b[0m                                 Traceback (most recent call last)",
      "Cell \u001b[0;32mIn [7], line 1\u001b[0m\n\u001b[0;32m----> 1\u001b[0m \u001b[43mdata\u001b[49m\u001b[38;5;241m.\u001b[39mobjects\n\u001b[1;32m      2\u001b[0m [SimulationCell(), Particles(), AttributeDataObject(), AttributeDataObject()]\n",
      "\u001b[0;31mNameError\u001b[0m: name 'data' is not defined"
     ]
    }
   ],
   "source": [
    ">>> data.objects\n",
    "[SimulationCell(), Particles(), AttributeDataObject(), AttributeDataObject()]"
   ]
  },
  {
   "cell_type": "markdown",
   "id": "18c8807e",
   "metadata": {},
   "source": [
    "得到的data是一个datacollection对象"
   ]
  },
  {
   "cell_type": "code",
   "execution_count": 8,
   "id": "59c1ebfe",
   "metadata": {
    "collapsed": true
   },
   "outputs": [
    {
     "ename": "SyntaxError",
     "evalue": "invalid syntax. Perhaps you forgot a comma? (2356487746.py, line 2)",
     "output_type": "error",
     "traceback": [
      "\u001b[0;36m  Cell \u001b[0;32mIn [8], line 2\u001b[0;36m\u001b[0m\n\u001b[0;31m    [[ 148.147995      0.            0.          -74.0739975 ]\u001b[0m\n\u001b[0m       ^\u001b[0m\n\u001b[0;31mSyntaxError\u001b[0m\u001b[0;31m:\u001b[0m invalid syntax. Perhaps you forgot a comma?\n"
     ]
    }
   ],
   "source": [
    ">>> print(data.cell[...])\n",
    "[[ 148.147995      0.            0.          -74.0739975 ]\n",
    " [   0.          148.07200623    0.          -74.03600311]\n",
    " [   0.            0.          148.0756073   -74.03780365]]"
   ]
  },
  {
   "cell_type": "code",
   "execution_count": 10,
   "id": "b7003d6b",
   "metadata": {
    "collapsed": true
   },
   "outputs": [
    {
     "ename": "SyntaxError",
     "evalue": "invalid syntax. Perhaps you forgot a comma? (2763577061.py, line 2)",
     "output_type": "error",
     "traceback": [
      "\u001b[0;36m  Cell \u001b[0;32mIn [10], line 2\u001b[0;36m\u001b[0m\n\u001b[0;31m    [[ 73.24230194  -5.77583981  -0.87618297]\u001b[0m\n\u001b[0m     ^\u001b[0m\n\u001b[0;31mSyntaxError\u001b[0m\u001b[0;31m:\u001b[0m invalid syntax. Perhaps you forgot a comma?\n"
     ]
    }
   ],
   "source": [
    ">>> print(data.particles.positions[...])\n",
    "[[ 73.24230194  -5.77583981  -0.87618297]\n",
    " [-49.00170135 -35.47610092 -27.92519951]\n",
    " [-50.36349869 -39.02569962 -25.61310005]\n",
    " ...,\n",
    " [ 42.71210098  59.44919968  38.6432991 ]\n",
    " [ 42.9917984   63.53770065  36.33330154]\n",
    " [ 44.17670059  61.49860001  37.5401001 ]]"
   ]
  },
  {
   "cell_type": "markdown",
   "id": "86c0683d",
   "metadata": {},
   "source": [
    "# 得到输入数据datacollection"
   ]
  },
  {
   "cell_type": "markdown",
   "id": "a914d7ef",
   "metadata": {},
   "source": [
    "This object also provides a compute() method returning a DataCollection"
   ]
  },
  {
   "cell_type": "code",
   "execution_count": 11,
   "id": "90ef350d",
   "metadata": {
    "collapsed": true
   },
   "outputs": [
    {
     "ename": "NameError",
     "evalue": "name 'pipeline' is not defined",
     "output_type": "error",
     "traceback": [
      "\u001b[0;31m---------------------------------------------------------------------------\u001b[0m",
      "\u001b[0;31mNameError\u001b[0m                                 Traceback (most recent call last)",
      "Cell \u001b[0;32mIn [11], line 1\u001b[0m\n\u001b[0;32m----> 1\u001b[0m input_data  \u001b[38;5;241m=\u001b[39m \u001b[43mpipeline\u001b[49m\u001b[38;5;241m.\u001b[39msource\u001b[38;5;241m.\u001b[39mcompute()  \u001b[38;5;66;03m# pipeline.source得到的是filesource对象\u001b[39;00m\n\u001b[1;32m      2\u001b[0m output_data \u001b[38;5;241m=\u001b[39m pipeline\u001b[38;5;241m.\u001b[39mcompute()\n",
      "\u001b[0;31mNameError\u001b[0m: name 'pipeline' is not defined"
     ]
    }
   ],
   "source": [
    "input_data  = pipeline.source.compute()  # pipeline.source得到的是filesource对象\n",
    "output_data = pipeline.compute()"
   ]
  },
  {
   "cell_type": "markdown",
   "id": "b9a206b9",
   "metadata": {},
   "source": [
    "# 可视化"
   ]
  },
  {
   "cell_type": "code",
   "execution_count": 12,
   "id": "5179d1fb",
   "metadata": {
    "collapsed": true
   },
   "outputs": [
    {
     "ename": "NameError",
     "evalue": "name 'import_file' is not defined",
     "output_type": "error",
     "traceback": [
      "\u001b[0;31m---------------------------------------------------------------------------\u001b[0m",
      "\u001b[0;31mNameError\u001b[0m                                 Traceback (most recent call last)",
      "Cell \u001b[0;32mIn [12], line 1\u001b[0m\n\u001b[0;32m----> 1\u001b[0m pipeline \u001b[38;5;241m=\u001b[39m \u001b[43mimport_file\u001b[49m(\u001b[38;5;124m\"\u001b[39m\u001b[38;5;124msimulation.dump\u001b[39m\u001b[38;5;124m\"\u001b[39m)\n\u001b[1;32m      2\u001b[0m pipeline\u001b[38;5;241m.\u001b[39madd_to_scene()\n",
      "\u001b[0;31mNameError\u001b[0m: name 'import_file' is not defined"
     ]
    }
   ],
   "source": [
    "pipeline = import_file(\"simulation.dump\")  \n",
    "pipeline.add_to_scene()    # 添加到视窗中"
   ]
  },
  {
   "cell_type": "markdown",
   "id": "3a027a01",
   "metadata": {},
   "source": [
    "设置相机参数"
   ]
  },
  {
   "cell_type": "code",
   "execution_count": 14,
   "id": "947091f7",
   "metadata": {},
   "outputs": [],
   "source": [
    "from ovito.vis import Viewport\n",
    "import math\n",
    "vp = Viewport()\n",
    "vp.type = Viewport.Type.Perspective\n",
    "vp.camera_pos = (-100, -150, 150)\n",
    "vp.camera_dir = (2, 3, -3)\n",
    "vp.fov = math.radians(60.0)"
   ]
  },
  {
   "cell_type": "code",
   "execution_count": 15,
   "id": "cf8a98e7",
   "metadata": {},
   "outputs": [
    {
     "name": "stdout",
     "output_type": "stream",
     "text": [
      "Warning: The scene to be rendered is empty. Did you forget to add a pipeline to the scene using Pipeline.add_to_scene()?\n"
     ]
    },
    {
     "data": {
      "text/plain": [
       "<PySide2.QtGui.QImage(QSize(800, 600),format=QImage::Format_ARGB32,depth=32,devicePixelRatio=1,bytesPerLine=3200,sizeInBytes=1920000) at 0x7f4110fca8c0>"
      ]
     },
     "execution_count": 15,
     "metadata": {},
     "output_type": "execute_result"
    }
   ],
   "source": [
    "vp.render_image(filename=\"myimage.png\", size=(800,600))"
   ]
  },
  {
   "cell_type": "code",
   "execution_count": null,
   "id": "3542deb6",
   "metadata": {},
   "outputs": [],
   "source": []
  }
 ],
 "metadata": {
  "kernelspec": {
   "display_name": "myovito",
   "language": "python",
   "name": "myovito"
  },
  "language_info": {
   "codemirror_mode": {
    "name": "ipython",
    "version": 3
   },
   "file_extension": ".py",
   "mimetype": "text/x-python",
   "name": "python",
   "nbconvert_exporter": "python",
   "pygments_lexer": "ipython3",
   "version": "3.10.8"
  }
 },
 "nbformat": 4,
 "nbformat_minor": 5
}

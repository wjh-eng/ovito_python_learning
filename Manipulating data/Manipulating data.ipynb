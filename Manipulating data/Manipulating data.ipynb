{
 "cells": [
  {
   "cell_type": "markdown",
   "id": "cbea45c6",
   "metadata": {},
   "source": [
    "# 数据所有者"
   ]
  },
  {
   "cell_type": "code",
   "execution_count": 1,
   "id": "9c217779",
   "metadata": {},
   "outputs": [
    {
     "ename": "NameError",
     "evalue": "name 'data' is not defined",
     "output_type": "error",
     "traceback": [
      "\u001b[0;31m---------------------------------------------------------------------------\u001b[0m",
      "\u001b[0;31mNameError\u001b[0m                                 Traceback (most recent call last)",
      "Cell \u001b[0;32mIn[1], line 1\u001b[0m\n\u001b[0;32m----> 1\u001b[0m data2 \u001b[38;5;241m=\u001b[39m \u001b[43mdata\u001b[49m\u001b[38;5;241m.\u001b[39mclone()\n\u001b[1;32m      2\u001b[0m \u001b[38;5;28;01massert\u001b[39;00m(data2\u001b[38;5;241m.\u001b[39mparticles \u001b[38;5;129;01mis\u001b[39;00m data\u001b[38;5;241m.\u001b[39mparticles)\n",
      "\u001b[0;31mNameError\u001b[0m: name 'data' is not defined"
     ]
    }
   ],
   "source": [
    "data2 = data.clone()\n",
    "assert(data2.particles is data.particles)"
   ]
  },
  {
   "cell_type": "markdown",
   "id": "84360e58",
   "metadata": {},
   "source": [
    "复制的数据是同一个对象"
   ]
  },
  {
   "cell_type": "markdown",
   "id": "be9d5805",
   "metadata": {},
   "source": [
    "![shallow_copy_pipeline](shallow_copy_pipeline.svg)"
   ]
  },
  {
   "cell_type": "markdown",
   "id": "2e19f252",
   "metadata": {},
   "source": [
    "数据共享。"
   ]
  },
  {
   "cell_type": "markdown",
   "id": "284a2bcc",
   "metadata": {},
   "source": [
    "# 声明数据修改"
   ]
  },
  {
   "cell_type": "code",
   "execution_count": 1,
   "id": "08f639a3",
   "metadata": {},
   "outputs": [
    {
     "ename": "SyntaxError",
     "evalue": "invalid syntax (602596915.py, line 3)",
     "output_type": "error",
     "traceback": [
      "\u001b[0;36m  Cell \u001b[0;32mIn[1], line 3\u001b[0;36m\u001b[0m\n\u001b[0;31m    RuntimeError: You tried to modify a SimulationCell object that is currently shared by\u001b[0m\n\u001b[0m                      ^\u001b[0m\n\u001b[0;31mSyntaxError\u001b[0m\u001b[0;31m:\u001b[0m invalid syntax\n"
     ]
    }
   ],
   "source": [
    "data = pipeline.compute()\n",
    "data.cell.pbc = (True, True, False)\n",
    "RuntimeError: You tried to modify a SimulationCell object that is currently shared by\n",
    "multiple owners. Please explicitly request a mutable version of the data object by\n",
    "using the '_' notation."
   ]
  },
  {
   "cell_type": "code",
   "execution_count": 3,
   "id": "2b3f8a52",
   "metadata": {},
   "outputs": [
    {
     "ename": "NameError",
     "evalue": "name 'data' is not defined",
     "output_type": "error",
     "traceback": [
      "\u001b[0;31m---------------------------------------------------------------------------\u001b[0m",
      "\u001b[0;31mNameError\u001b[0m                                 Traceback (most recent call last)",
      "Cell \u001b[0;32mIn[3], line 1\u001b[0m\n\u001b[0;32m----> 1\u001b[0m \u001b[43mdata\u001b[49m\u001b[38;5;241m.\u001b[39mcell_\u001b[38;5;241m.\u001b[39mpbc \u001b[38;5;241m=\u001b[39m (\u001b[38;5;28;01mTrue\u001b[39;00m, \u001b[38;5;28;01mTrue\u001b[39;00m, \u001b[38;5;28;01mFalse\u001b[39;00m)\n",
      "\u001b[0;31mNameError\u001b[0m: name 'data' is not defined"
     ]
    }
   ],
   "source": [
    "data.cell_.pbc = (True, True, False) # 保证副本仅被一人拥有"
   ]
  },
  {
   "cell_type": "markdown",
   "id": "558dddcc",
   "metadata": {},
   "source": [
    "# 创建新属性"
   ]
  },
  {
   "cell_type": "code",
   "execution_count": 4,
   "id": "588fa42c",
   "metadata": {},
   "outputs": [
    {
     "ename": "SyntaxError",
     "evalue": "invalid syntax (3090535338.py, line 2)",
     "output_type": "error",
     "traceback": [
      "\u001b[0;36m  Cell \u001b[0;32mIn[4], line 2\u001b[0;36m\u001b[0m\n\u001b[0;31m    data.particles_.create_property('Color', data=color_values)|\u001b[0m\n\u001b[0m                                                                ^\u001b[0m\n\u001b[0;31mSyntaxError\u001b[0m\u001b[0;31m:\u001b[0m invalid syntax\n"
     ]
    }
   ],
   "source": [
    "color_values = numpy.random.random_sample(size=(data.particles.count, 3))\n",
    "data.particles_.create_property('Color', data=color_values)|"
   ]
  },
  {
   "cell_type": "markdown",
   "id": "644e97c2",
   "metadata": {},
   "source": [
    "# 创建键属性"
   ]
  },
  {
   "cell_type": "code",
   "execution_count": 5,
   "id": "574a60f8",
   "metadata": {},
   "outputs": [
    {
     "ename": "NameError",
     "evalue": "name 'numpy' is not defined",
     "output_type": "error",
     "traceback": [
      "\u001b[0;31m---------------------------------------------------------------------------\u001b[0m",
      "\u001b[0;31mNameError\u001b[0m                                 Traceback (most recent call last)",
      "Cell \u001b[0;32mIn[5], line 1\u001b[0m\n\u001b[0;32m----> 1\u001b[0m color_values \u001b[38;5;241m=\u001b[39m \u001b[43mnumpy\u001b[49m\u001b[38;5;241m.\u001b[39mrandom\u001b[38;5;241m.\u001b[39mrandom_sample(size \u001b[38;5;241m=\u001b[39m (data\u001b[38;5;241m.\u001b[39mparticles\u001b[38;5;241m.\u001b[39mbonds\u001b[38;5;241m.\u001b[39mcount, \u001b[38;5;241m3\u001b[39m))\n\u001b[1;32m      2\u001b[0m data\u001b[38;5;241m.\u001b[39mparticles_\u001b[38;5;241m.\u001b[39mbonds_\u001b[38;5;241m.\u001b[39mcreate_property(\u001b[38;5;124m'\u001b[39m\u001b[38;5;124mColor\u001b[39m\u001b[38;5;124m'\u001b[39m, data\u001b[38;5;241m=\u001b[39mcolor_values)\n",
      "\u001b[0;31mNameError\u001b[0m: name 'numpy' is not defined"
     ]
    }
   ],
   "source": [
    "color_values = numpy.random.random_sample(size = (data.particles.bonds.count, 3))\n",
    "data.particles_.bonds_.create_property('Color', data=color_values)"
   ]
  },
  {
   "cell_type": "markdown",
   "id": "793f4078",
   "metadata": {},
   "source": [
    "# Modifying property values\n"
   ]
  },
  {
   "cell_type": "code",
   "execution_count": 6,
   "id": "805ad831",
   "metadata": {},
   "outputs": [
    {
     "ename": "NameError",
     "evalue": "name 'data' is not defined",
     "output_type": "error",
     "traceback": [
      "\u001b[0;31m---------------------------------------------------------------------------\u001b[0m",
      "\u001b[0;31mNameError\u001b[0m                                 Traceback (most recent call last)",
      "Cell \u001b[0;32mIn[6], line 2\u001b[0m\n\u001b[1;32m      1\u001b[0m \u001b[38;5;66;03m# Move the first particle to new XYZ coordinates:\u001b[39;00m\n\u001b[0;32m----> 2\u001b[0m \u001b[43mdata\u001b[49m\u001b[38;5;241m.\u001b[39mparticles_\u001b[38;5;241m.\u001b[39mpositions_[\u001b[38;5;241m0\u001b[39m] \u001b[38;5;241m=\u001b[39m (\u001b[38;5;241m10.0\u001b[39m, \u001b[38;5;241m8.0\u001b[39m, \u001b[38;5;241m4.5\u001b[39m)\n\u001b[1;32m      4\u001b[0m \u001b[38;5;66;03m# Displace the first particle by 2 length units along the x-axis:\u001b[39;00m\n\u001b[1;32m      5\u001b[0m data\u001b[38;5;241m.\u001b[39mparticles_\u001b[38;5;241m.\u001b[39mpositions_[\u001b[38;5;241m0\u001b[39m] \u001b[38;5;241m+\u001b[39m\u001b[38;5;241m=\u001b[39m (\u001b[38;5;241m2.0\u001b[39m, \u001b[38;5;241m0\u001b[39m, \u001b[38;5;241m0\u001b[39m)\n",
      "\u001b[0;31mNameError\u001b[0m: name 'data' is not defined"
     ]
    }
   ],
   "source": [
    "# Move the first particle to new XYZ coordinates:\n",
    "data.particles_.positions_[0] = (10.0, 8.0, 4.5)\n",
    "\n",
    "# Displace the first particle by 2 length units along the x-axis:\n",
    "data.particles_.positions_[0] += (2.0, 0, 0)\n",
    "\n",
    "# Displace all particles by 1 length unit along the z-axis:\n",
    "data.particles_.positions_[...] += (0, 0, 1.0)"
   ]
  },
  {
   "cell_type": "code",
   "execution_count": 7,
   "id": "173cbfb0",
   "metadata": {},
   "outputs": [
    {
     "ename": "NameError",
     "evalue": "name 'data' is not defined",
     "output_type": "error",
     "traceback": [
      "\u001b[0;31m---------------------------------------------------------------------------\u001b[0m",
      "\u001b[0;31mNameError\u001b[0m                                 Traceback (most recent call last)",
      "Cell \u001b[0;32mIn[7], line 2\u001b[0m\n\u001b[1;32m      1\u001b[0m \u001b[38;5;66;03m# Displace only selected particles, i.e. those whose 'Selection' property is non-zero:\u001b[39;00m\n\u001b[0;32m----> 2\u001b[0m \u001b[43mdata\u001b[49m\u001b[38;5;241m.\u001b[39mparticles_\u001b[38;5;241m.\u001b[39mpositions_[data\u001b[38;5;241m.\u001b[39mparticles\u001b[38;5;241m.\u001b[39mselection \u001b[38;5;241m!=\u001b[39m \u001b[38;5;241m0\u001b[39m] \u001b[38;5;241m+\u001b[39m\u001b[38;5;241m=\u001b[39m (\u001b[38;5;241m0\u001b[39m, \u001b[38;5;241m0\u001b[39m, \u001b[38;5;241m1\u001b[39m)\n\u001b[1;32m      4\u001b[0m \u001b[38;5;66;03m# Alternatively, modify just the z-component of each position vector:\u001b[39;00m\n\u001b[1;32m      5\u001b[0m data\u001b[38;5;241m.\u001b[39mparticles_\u001b[38;5;241m.\u001b[39mpositions_[data\u001b[38;5;241m.\u001b[39mparticles\u001b[38;5;241m.\u001b[39mselection \u001b[38;5;241m!=\u001b[39m \u001b[38;5;241m0\u001b[39m, \u001b[38;5;241m2\u001b[39m] \u001b[38;5;241m+\u001b[39m\u001b[38;5;241m=\u001b[39m \u001b[38;5;241m1\u001b[39m\n",
      "\u001b[0;31mNameError\u001b[0m: name 'data' is not defined"
     ]
    }
   ],
   "source": [
    "# Displace only selected particles, i.e. those whose 'Selection' property is non-zero:\n",
    "data.particles_.positions_[data.particles.selection != 0] += (0, 0, 1)\n",
    "\n",
    "# Alternatively, modify just the z-component of each position vector:\n",
    "data.particles_.positions_[data.particles.selection != 0, 2] += 1"
   ]
  },
  {
   "cell_type": "markdown",
   "id": "f22828a0",
   "metadata": {},
   "source": [
    "# Adding global attributes\n"
   ]
  },
  {
   "cell_type": "code",
   "execution_count": 8,
   "id": "d9ecbf16",
   "metadata": {},
   "outputs": [
    {
     "ename": "SyntaxError",
     "evalue": "invalid syntax (3032542022.py, line 1)",
     "output_type": "error",
     "traceback": [
      "\u001b[0;36m  Cell \u001b[0;32mIn[8], line 1\u001b[0;36m\u001b[0m\n\u001b[0;31m    data.attributes['dislocation_density'] =\u001b[0m\n\u001b[0m                                            ^\u001b[0m\n\u001b[0;31mSyntaxError\u001b[0m\u001b[0;31m:\u001b[0m invalid syntax\n"
     ]
    }
   ],
   "source": [
    "data.attributes['dislocation_density'] =\n",
    "    data.attributes['DislocationAnalysis.total_line_length'] / data.cell.volume"
   ]
  },
  {
   "cell_type": "markdown",
   "id": "f59d7176",
   "metadata": {},
   "source": [
    "# Modifying the simulation cell"
   ]
  },
  {
   "cell_type": "code",
   "execution_count": 9,
   "id": "fcd09b52",
   "metadata": {},
   "outputs": [
    {
     "ename": "NameError",
     "evalue": "name 'data' is not defined",
     "output_type": "error",
     "traceback": [
      "\u001b[0;31m---------------------------------------------------------------------------\u001b[0m",
      "\u001b[0;31mNameError\u001b[0m                                 Traceback (most recent call last)",
      "Cell \u001b[0;32mIn[9], line 1\u001b[0m\n\u001b[0;32m----> 1\u001b[0m \u001b[43mdata\u001b[49m\u001b[38;5;241m.\u001b[39mcell_[:,\u001b[38;5;241m0\u001b[39m] \u001b[38;5;241m=\u001b[39m (\u001b[38;5;241m3.15\u001b[39m, \u001b[38;5;241m0\u001b[39m, \u001b[38;5;241m0\u001b[39m)  \u001b[38;5;66;03m# Cell vector 'a'\u001b[39;00m\n\u001b[1;32m      2\u001b[0m data\u001b[38;5;241m.\u001b[39mcell_[:,\u001b[38;5;241m1\u001b[39m] \u001b[38;5;241m=\u001b[39m (\u001b[38;5;241m0\u001b[39m, \u001b[38;5;241m3.15\u001b[39m, \u001b[38;5;241m0\u001b[39m)  \u001b[38;5;66;03m# Cell vector 'b'\u001b[39;00m\n\u001b[1;32m      3\u001b[0m data\u001b[38;5;241m.\u001b[39mcell_[:,\u001b[38;5;241m2\u001b[39m] \u001b[38;5;241m=\u001b[39m (\u001b[38;5;241m0\u001b[39m, \u001b[38;5;241m0\u001b[39m, \u001b[38;5;241m3.30\u001b[39m)  \u001b[38;5;66;03m# Cell vector 'c'\u001b[39;00m\n",
      "\u001b[0;31mNameError\u001b[0m: name 'data' is not defined"
     ]
    }
   ],
   "source": [
    "data.cell_[:,0] = (3.15, 0, 0)  # Cell vector 'a'\n",
    "data.cell_[:,1] = (0, 3.15, 0)  # Cell vector 'b'\n",
    "data.cell_[:,2] = (0, 0, 3.30)  # Cell vector 'c'\n",
    "data.cell_[:,3] = (0, 0, 0)     # Cell origin"
   ]
  },
  {
   "cell_type": "markdown",
   "id": "d438ebc9",
   "metadata": {},
   "source": [
    "# Direct application of modifiers"
   ]
  },
  {
   "cell_type": "code",
   "execution_count": 10,
   "id": "3be505f9",
   "metadata": {},
   "outputs": [
    {
     "ename": "NameError",
     "evalue": "name 'pipeline' is not defined",
     "output_type": "error",
     "traceback": [
      "\u001b[0;31m---------------------------------------------------------------------------\u001b[0m",
      "\u001b[0;31mNameError\u001b[0m                                 Traceback (most recent call last)",
      "Cell \u001b[0;32mIn[10], line 1\u001b[0m\n\u001b[0;32m----> 1\u001b[0m data \u001b[38;5;241m=\u001b[39m \u001b[43mpipeline\u001b[49m\u001b[38;5;241m.\u001b[39mcompute()\n\u001b[1;32m      2\u001b[0m data\u001b[38;5;241m.\u001b[39mapply(ExpressionSelectionModifier(expression \u001b[38;5;241m=\u001b[39m \u001b[38;5;124m\"\u001b[39m\u001b[38;5;124mPotentialEnergy<-3.6\u001b[39m\u001b[38;5;124m\"\u001b[39m))\n\u001b[1;32m      3\u001b[0m data\u001b[38;5;241m.\u001b[39mapply(DeleteSelectedModifier())\n",
      "\u001b[0;31mNameError\u001b[0m: name 'pipeline' is not defined"
     ]
    }
   ],
   "source": [
    "data = pipeline.compute()\n",
    "data.apply(ExpressionSelectionModifier(expression = \"PotentialEnergy<-3.6\"))\n",
    "data.apply(DeleteSelectedModifier())"
   ]
  },
  {
   "cell_type": "code",
   "execution_count": null,
   "id": "dd00155e",
   "metadata": {},
   "outputs": [],
   "source": []
  }
 ],
 "metadata": {
  "kernelspec": {
   "display_name": "myovito",
   "language": "python",
   "name": "myovito"
  },
  "language_info": {
   "codemirror_mode": {
    "name": "ipython",
    "version": 3
   },
   "file_extension": ".py",
   "mimetype": "text/x-python",
   "name": "python",
   "nbconvert_exporter": "python",
   "pygments_lexer": "ipython3",
   "version": "3.10.8"
  }
 },
 "nbformat": 4,
 "nbformat_minor": 5
}

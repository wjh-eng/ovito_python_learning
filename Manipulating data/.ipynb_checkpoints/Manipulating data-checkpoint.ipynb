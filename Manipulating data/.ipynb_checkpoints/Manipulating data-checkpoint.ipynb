{
 "cells": [
  {
   "cell_type": "markdown",
   "id": "cbea45c6",
   "metadata": {},
   "source": [
    "# 数据所有者"
   ]
  },
  {
   "cell_type": "code",
   "execution_count": 1,
   "id": "9c217779",
   "metadata": {},
   "outputs": [
    {
     "ename": "NameError",
     "evalue": "name 'data' is not defined",
     "output_type": "error",
     "traceback": [
      "\u001b[0;31m---------------------------------------------------------------------------\u001b[0m",
      "\u001b[0;31mNameError\u001b[0m                                 Traceback (most recent call last)",
      "Cell \u001b[0;32mIn[1], line 1\u001b[0m\n\u001b[0;32m----> 1\u001b[0m data2 \u001b[38;5;241m=\u001b[39m \u001b[43mdata\u001b[49m\u001b[38;5;241m.\u001b[39mclone()\n\u001b[1;32m      2\u001b[0m \u001b[38;5;28;01massert\u001b[39;00m(data2\u001b[38;5;241m.\u001b[39mparticles \u001b[38;5;129;01mis\u001b[39;00m data\u001b[38;5;241m.\u001b[39mparticles)\n",
      "\u001b[0;31mNameError\u001b[0m: name 'data' is not defined"
     ]
    }
   ],
   "source": [
    "data2 = data.clone()\n",
    "assert(data2.particles is data.particles)"
   ]
  },
  {
   "cell_type": "markdown",
   "id": "84360e58",
   "metadata": {},
   "source": [
    "复制的数据是同一个对象"
   ]
  },
  {
   "cell_type": "markdown",
   "id": "3b3fe8b1",
   "metadata": {},
   "source": [
    "!["
   ]
  }
 ],
 "metadata": {
  "kernelspec": {
   "display_name": "myovito",
   "language": "python",
   "name": "myovito"
  },
  "language_info": {
   "codemirror_mode": {
    "name": "ipython",
    "version": 3
   },
   "file_extension": ".py",
   "mimetype": "text/x-python",
   "name": "python",
   "nbconvert_exporter": "python",
   "pygments_lexer": "ipython3",
   "version": "3.10.8"
  }
 },
 "nbformat": 4,
 "nbformat_minor": 5
}

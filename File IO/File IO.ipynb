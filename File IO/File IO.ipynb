{
 "cells": [
  {
   "cell_type": "markdown",
   "id": "0ac1a73a",
   "metadata": {},
   "source": [
    "# 导入数据"
   ]
  },
  {
   "cell_type": "code",
   "execution_count": 1,
   "id": "5be19d04",
   "metadata": {
    "scrolled": true
   },
   "outputs": [
    {
     "name": "stderr",
     "output_type": "stream",
     "text": [
      "Warning: Ignoring XDG_SESSION_TYPE=wayland on Gnome. Use QT_QPA_PLATFORM=wayland to run on Wayland anyway.\n"
     ]
    },
    {
     "ename": "RuntimeError",
     "evalue": "File does not exist:\nsimulation.dump",
     "output_type": "error",
     "traceback": [
      "\u001b[0;31m---------------------------------------------------------------------------\u001b[0m",
      "\u001b[0;31mRuntimeError\u001b[0m                              Traceback (most recent call last)",
      "Cell \u001b[0;32mIn [1], line 2\u001b[0m\n\u001b[1;32m      1\u001b[0m \u001b[38;5;28;01mfrom\u001b[39;00m \u001b[38;5;21;01movito\u001b[39;00m\u001b[38;5;21;01m.\u001b[39;00m\u001b[38;5;21;01mio\u001b[39;00m \u001b[38;5;28;01mimport\u001b[39;00m import_file\n\u001b[0;32m----> 2\u001b[0m pipeline \u001b[38;5;241m=\u001b[39m \u001b[43mimport_file\u001b[49m\u001b[43m(\u001b[49m\u001b[38;5;124;43m\"\u001b[39;49m\u001b[38;5;124;43msimulation.dump\u001b[39;49m\u001b[38;5;124;43m\"\u001b[39;49m\u001b[43m)\u001b[49m\n",
      "File \u001b[0;32m/usr/local/anaconda3/envs/ovitoenvs/lib/python3.10/site-packages/ovito/io/import_file_func.py:151\u001b[0m, in \u001b[0;36mimport_file\u001b[0;34m(location, **params)\u001b[0m\n\u001b[1;32m    148\u001b[0m     importer \u001b[38;5;241m=\u001b[39m import_file\u001b[38;5;241m.\u001b[39m_formatTable[\u001b[38;5;28mformat\u001b[39m]()\n\u001b[1;32m    149\u001b[0m \u001b[38;5;28;01melse\u001b[39;00m:\n\u001b[1;32m    150\u001b[0m     \u001b[38;5;66;03m# Auto-detect the file's format if caller did not specify the format explicitly.\u001b[39;00m\n\u001b[0;32m--> 151\u001b[0m     importer \u001b[38;5;241m=\u001b[39m \u001b[43mFileImporter\u001b[49m\u001b[38;5;241;43m.\u001b[39;49m\u001b[43mautodetect_format\u001b[49m\u001b[43m(\u001b[49m\u001b[43mfirst_location\u001b[49m\u001b[43m)\u001b[49m\n\u001b[1;32m    152\u001b[0m     \u001b[38;5;28;01mif\u001b[39;00m \u001b[38;5;129;01mnot\u001b[39;00m importer:\n\u001b[1;32m    153\u001b[0m         \u001b[38;5;28;01mraise\u001b[39;00m \u001b[38;5;167;01mRuntimeError\u001b[39;00m(\u001b[38;5;124m\"\u001b[39m\u001b[38;5;124mCould not detect the file format. The format might not be supported.\u001b[39m\u001b[38;5;124m\"\u001b[39m)\n",
      "\u001b[0;31mRuntimeError\u001b[0m: File does not exist:\nsimulation.dump"
     ]
    }
   ],
   "source": [
    "from ovito.io import import_file\n",
    "pipeline = import_file(\"simulation.dump\")"
   ]
  },
  {
   "cell_type": "markdown",
   "id": "8c80fb79",
   "metadata": {},
   "source": [
    "改变pipeline内的filesource对象"
   ]
  },
  {
   "cell_type": "code",
   "execution_count": null,
   "id": "b8ef2389",
   "metadata": {},
   "outputs": [],
   "source": [
    "pipeline.source.load(\"other_simulation.dump\")"
   ]
  },
  {
   "cell_type": "markdown",
   "id": "3ed730e6",
   "metadata": {},
   "source": [
    "## 导入模拟轨迹"
   ]
  },
  {
   "cell_type": "code",
   "execution_count": 2,
   "id": "908eb96d",
   "metadata": {},
   "outputs": [
    {
     "ename": "RuntimeError",
     "evalue": "There are no files in the directory matching the filename pattern.",
     "output_type": "error",
     "traceback": [
      "\u001b[0;31m---------------------------------------------------------------------------\u001b[0m",
      "\u001b[0;31mRuntimeError\u001b[0m                              Traceback (most recent call last)",
      "Cell \u001b[0;32mIn [2], line 1\u001b[0m\n\u001b[0;32m----> 1\u001b[0m pipeline \u001b[38;5;241m=\u001b[39m \u001b[43mimport_file\u001b[49m\u001b[43m(\u001b[49m\u001b[38;5;124;43m\"\u001b[39;49m\u001b[38;5;124;43m/path/frame.*.dump\u001b[39;49m\u001b[38;5;124;43m\"\u001b[39;49m\u001b[43m)\u001b[49m\n",
      "File \u001b[0;32m/usr/local/anaconda3/envs/ovitoenvs/lib/python3.10/site-packages/ovito/io/import_file_func.py:151\u001b[0m, in \u001b[0;36mimport_file\u001b[0;34m(location, **params)\u001b[0m\n\u001b[1;32m    148\u001b[0m     importer \u001b[38;5;241m=\u001b[39m import_file\u001b[38;5;241m.\u001b[39m_formatTable[\u001b[38;5;28mformat\u001b[39m]()\n\u001b[1;32m    149\u001b[0m \u001b[38;5;28;01melse\u001b[39;00m:\n\u001b[1;32m    150\u001b[0m     \u001b[38;5;66;03m# Auto-detect the file's format if caller did not specify the format explicitly.\u001b[39;00m\n\u001b[0;32m--> 151\u001b[0m     importer \u001b[38;5;241m=\u001b[39m \u001b[43mFileImporter\u001b[49m\u001b[38;5;241;43m.\u001b[39;49m\u001b[43mautodetect_format\u001b[49m\u001b[43m(\u001b[49m\u001b[43mfirst_location\u001b[49m\u001b[43m)\u001b[49m\n\u001b[1;32m    152\u001b[0m     \u001b[38;5;28;01mif\u001b[39;00m \u001b[38;5;129;01mnot\u001b[39;00m importer:\n\u001b[1;32m    153\u001b[0m         \u001b[38;5;28;01mraise\u001b[39;00m \u001b[38;5;167;01mRuntimeError\u001b[39;00m(\u001b[38;5;124m\"\u001b[39m\u001b[38;5;124mCould not detect the file format. The format might not be supported.\u001b[39m\u001b[38;5;124m\"\u001b[39m)\n",
      "\u001b[0;31mRuntimeError\u001b[0m: There are no files in the directory matching the filename pattern."
     ]
    }
   ],
   "source": [
    "pipeline = import_file(\"/path/frame.*.dump\")"
   ]
  },
  {
   "cell_type": "markdown",
   "id": "1255c27d",
   "metadata": {},
   "source": [
    "另一种方式"
   ]
  },
  {
   "cell_type": "code",
   "execution_count": 3,
   "id": "21f4b6d4",
   "metadata": {},
   "outputs": [
    {
     "ename": "RuntimeError",
     "evalue": "File does not exist:\ndir_a/simulation.dump",
     "output_type": "error",
     "traceback": [
      "\u001b[0;31m---------------------------------------------------------------------------\u001b[0m",
      "\u001b[0;31mRuntimeError\u001b[0m                              Traceback (most recent call last)",
      "Cell \u001b[0;32mIn [3], line 6\u001b[0m\n\u001b[1;32m      1\u001b[0m file_list \u001b[38;5;241m=\u001b[39m [\n\u001b[1;32m      2\u001b[0m     \u001b[38;5;124m\"\u001b[39m\u001b[38;5;124mdir_a/simulation.dump\u001b[39m\u001b[38;5;124m\"\u001b[39m,\n\u001b[1;32m      3\u001b[0m     \u001b[38;5;124m\"\u001b[39m\u001b[38;5;124mdir_b/simulation.dump\u001b[39m\u001b[38;5;124m\"\u001b[39m,\n\u001b[1;32m      4\u001b[0m     \u001b[38;5;124m\"\u001b[39m\u001b[38;5;124mdir_c/simulation.dump\u001b[39m\u001b[38;5;124m\"\u001b[39m\n\u001b[1;32m      5\u001b[0m ]\n\u001b[0;32m----> 6\u001b[0m pipeline \u001b[38;5;241m=\u001b[39m \u001b[43mimport_file\u001b[49m\u001b[43m(\u001b[49m\u001b[43mfile_list\u001b[49m\u001b[43m)\u001b[49m\n",
      "File \u001b[0;32m/usr/local/anaconda3/envs/ovitoenvs/lib/python3.10/site-packages/ovito/io/import_file_func.py:151\u001b[0m, in \u001b[0;36mimport_file\u001b[0;34m(location, **params)\u001b[0m\n\u001b[1;32m    148\u001b[0m     importer \u001b[38;5;241m=\u001b[39m import_file\u001b[38;5;241m.\u001b[39m_formatTable[\u001b[38;5;28mformat\u001b[39m]()\n\u001b[1;32m    149\u001b[0m \u001b[38;5;28;01melse\u001b[39;00m:\n\u001b[1;32m    150\u001b[0m     \u001b[38;5;66;03m# Auto-detect the file's format if caller did not specify the format explicitly.\u001b[39;00m\n\u001b[0;32m--> 151\u001b[0m     importer \u001b[38;5;241m=\u001b[39m \u001b[43mFileImporter\u001b[49m\u001b[38;5;241;43m.\u001b[39;49m\u001b[43mautodetect_format\u001b[49m\u001b[43m(\u001b[49m\u001b[43mfirst_location\u001b[49m\u001b[43m)\u001b[49m\n\u001b[1;32m    152\u001b[0m     \u001b[38;5;28;01mif\u001b[39;00m \u001b[38;5;129;01mnot\u001b[39;00m importer:\n\u001b[1;32m    153\u001b[0m         \u001b[38;5;28;01mraise\u001b[39;00m \u001b[38;5;167;01mRuntimeError\u001b[39;00m(\u001b[38;5;124m\"\u001b[39m\u001b[38;5;124mCould not detect the file format. The format might not be supported.\u001b[39m\u001b[38;5;124m\"\u001b[39m)\n",
      "\u001b[0;31mRuntimeError\u001b[0m: File does not exist:\ndir_a/simulation.dump"
     ]
    }
   ],
   "source": [
    "file_list = [\n",
    "    \"dir_a/simulation.dump\",\n",
    "    \"dir_b/simulation.dump\",\n",
    "    \"dir_c/simulation.dump\"\n",
    "]\n",
    "pipeline = import_file(file_list)"
   ]
  },
  {
   "cell_type": "code",
   "execution_count": 4,
   "id": "a535db16",
   "metadata": {},
   "outputs": [
    {
     "ename": "NameError",
     "evalue": "name 'pipeline' is not defined",
     "output_type": "error",
     "traceback": [
      "\u001b[0;31m---------------------------------------------------------------------------\u001b[0m",
      "\u001b[0;31mNameError\u001b[0m                                 Traceback (most recent call last)",
      "Cell \u001b[0;32mIn [4], line 1\u001b[0m\n\u001b[0;32m----> 1\u001b[0m \u001b[38;5;28mprint\u001b[39m(\u001b[43mpipeline\u001b[49m\u001b[38;5;241m.\u001b[39msource\u001b[38;5;241m.\u001b[39mnum_frames)\n",
      "\u001b[0;31mNameError\u001b[0m: name 'pipeline' is not defined"
     ]
    }
   ],
   "source": [
    "print(pipeline.source.num_frames)"
   ]
  },
  {
   "cell_type": "markdown",
   "id": "c7644ce8",
   "metadata": {},
   "source": [
    "分子系统拓扑数据"
   ]
  },
  {
   "cell_type": "code",
   "execution_count": 5,
   "id": "b982874e",
   "metadata": {},
   "outputs": [
    {
     "ename": "RuntimeError",
     "evalue": "File does not exist:\ntopology.data",
     "output_type": "error",
     "traceback": [
      "\u001b[0;31m---------------------------------------------------------------------------\u001b[0m",
      "\u001b[0;31mRuntimeError\u001b[0m                              Traceback (most recent call last)",
      "Cell \u001b[0;32mIn [5], line 1\u001b[0m\n\u001b[0;32m----> 1\u001b[0m pipeline \u001b[38;5;241m=\u001b[39m \u001b[43mimport_file\u001b[49m\u001b[43m(\u001b[49m\u001b[38;5;124;43m\"\u001b[39;49m\u001b[38;5;124;43mtopology.data\u001b[39;49m\u001b[38;5;124;43m\"\u001b[39;49m\u001b[43m)\u001b[49m\n\u001b[1;32m      2\u001b[0m traj_mod \u001b[38;5;241m=\u001b[39m LoadTrajectoryModifier()\n\u001b[1;32m      3\u001b[0m traj_mod\u001b[38;5;241m.\u001b[39msource\u001b[38;5;241m.\u001b[39mload(\u001b[38;5;124m'\u001b[39m\u001b[38;5;124mtrajectory.dump\u001b[39m\u001b[38;5;124m'\u001b[39m)\n",
      "File \u001b[0;32m/usr/local/anaconda3/envs/ovitoenvs/lib/python3.10/site-packages/ovito/io/import_file_func.py:151\u001b[0m, in \u001b[0;36mimport_file\u001b[0;34m(location, **params)\u001b[0m\n\u001b[1;32m    148\u001b[0m     importer \u001b[38;5;241m=\u001b[39m import_file\u001b[38;5;241m.\u001b[39m_formatTable[\u001b[38;5;28mformat\u001b[39m]()\n\u001b[1;32m    149\u001b[0m \u001b[38;5;28;01melse\u001b[39;00m:\n\u001b[1;32m    150\u001b[0m     \u001b[38;5;66;03m# Auto-detect the file's format if caller did not specify the format explicitly.\u001b[39;00m\n\u001b[0;32m--> 151\u001b[0m     importer \u001b[38;5;241m=\u001b[39m \u001b[43mFileImporter\u001b[49m\u001b[38;5;241;43m.\u001b[39;49m\u001b[43mautodetect_format\u001b[49m\u001b[43m(\u001b[49m\u001b[43mfirst_location\u001b[49m\u001b[43m)\u001b[49m\n\u001b[1;32m    152\u001b[0m     \u001b[38;5;28;01mif\u001b[39;00m \u001b[38;5;129;01mnot\u001b[39;00m importer:\n\u001b[1;32m    153\u001b[0m         \u001b[38;5;28;01mraise\u001b[39;00m \u001b[38;5;167;01mRuntimeError\u001b[39;00m(\u001b[38;5;124m\"\u001b[39m\u001b[38;5;124mCould not detect the file format. The format might not be supported.\u001b[39m\u001b[38;5;124m\"\u001b[39m)\n",
      "\u001b[0;31mRuntimeError\u001b[0m: File does not exist:\ntopology.data"
     ]
    }
   ],
   "source": [
    "pipeline = import_file(\"topology.data\")\n",
    "traj_mod = LoadTrajectoryModifier()\n",
    "traj_mod.source.load('trajectory.dump')\n",
    "pipeline.modifiers.append(traj_mod)"
   ]
  },
  {
   "cell_type": "markdown",
   "id": "39dece6a",
   "metadata": {},
   "source": [
    "## 循环处理单帧"
   ]
  },
  {
   "cell_type": "code",
   "execution_count": 6,
   "id": "8016ed32",
   "metadata": {},
   "outputs": [
    {
     "ename": "NameError",
     "evalue": "name 'pipeline' is not defined",
     "output_type": "error",
     "traceback": [
      "\u001b[0;31m---------------------------------------------------------------------------\u001b[0m",
      "\u001b[0;31mNameError\u001b[0m                                 Traceback (most recent call last)",
      "Cell \u001b[0;32mIn [6], line 1\u001b[0m\n\u001b[0;32m----> 1\u001b[0m \u001b[38;5;28;01mfor\u001b[39;00m frame \u001b[38;5;129;01min\u001b[39;00m \u001b[38;5;28mrange\u001b[39m(\u001b[43mpipeline\u001b[49m\u001b[38;5;241m.\u001b[39msource\u001b[38;5;241m.\u001b[39mnum_frames):\n\u001b[1;32m      2\u001b[0m     data \u001b[38;5;241m=\u001b[39m pipeline\u001b[38;5;241m.\u001b[39mcompute(frame)\n",
      "\u001b[0;31mNameError\u001b[0m: name 'pipeline' is not defined"
     ]
    }
   ],
   "source": [
    "for frame in range(pipeline.source.num_frames):\n",
    "    data = pipeline.compute(frame)"
   ]
  },
  {
   "cell_type": "markdown",
   "id": "61edfdcc",
   "metadata": {},
   "source": [
    "## 指定列属性"
   ]
  },
  {
   "cell_type": "code",
   "execution_count": 7,
   "id": "f8bb17d9",
   "metadata": {},
   "outputs": [
    {
     "ename": "RuntimeError",
     "evalue": "File does not exist:\nsimulation.xyz",
     "output_type": "error",
     "traceback": [
      "\u001b[0;31m---------------------------------------------------------------------------\u001b[0m",
      "\u001b[0;31mRuntimeError\u001b[0m                              Traceback (most recent call last)",
      "Cell \u001b[0;32mIn [7], line 1\u001b[0m\n\u001b[0;32m----> 1\u001b[0m pipeline \u001b[38;5;241m=\u001b[39m \u001b[43mimport_file\u001b[49m\u001b[43m(\u001b[49m\u001b[38;5;124;43m\"\u001b[39;49m\u001b[38;5;124;43msimulation.xyz\u001b[39;49m\u001b[38;5;124;43m\"\u001b[39;49m\u001b[43m,\u001b[49m\u001b[43m \u001b[49m\u001b[43mcolumns\u001b[49m\u001b[43m \u001b[49m\u001b[38;5;241;43m=\u001b[39;49m\n\u001b[1;32m      2\u001b[0m \u001b[43m         \u001b[49m\u001b[43m[\u001b[49m\u001b[38;5;124;43m\"\u001b[39;49m\u001b[38;5;124;43mParticle Type\u001b[39;49m\u001b[38;5;124;43m\"\u001b[39;49m\u001b[43m,\u001b[49m\u001b[43m \u001b[49m\u001b[38;5;124;43m\"\u001b[39;49m\u001b[38;5;124;43mPosition.X\u001b[39;49m\u001b[38;5;124;43m\"\u001b[39;49m\u001b[43m,\u001b[49m\u001b[43m \u001b[49m\u001b[38;5;124;43m\"\u001b[39;49m\u001b[38;5;124;43mPosition.Y\u001b[39;49m\u001b[38;5;124;43m\"\u001b[39;49m\u001b[43m,\u001b[49m\u001b[43m \u001b[49m\u001b[38;5;124;43m\"\u001b[39;49m\u001b[38;5;124;43mPosition.Z\u001b[39;49m\u001b[38;5;124;43m\"\u001b[39;49m\u001b[43m,\u001b[49m\u001b[43m \u001b[49m\u001b[38;5;124;43m\"\u001b[39;49m\u001b[38;5;124;43mMy Property\u001b[39;49m\u001b[38;5;124;43m\"\u001b[39;49m\u001b[43m]\u001b[49m\u001b[43m)\u001b[49m\n",
      "File \u001b[0;32m/usr/local/anaconda3/envs/ovitoenvs/lib/python3.10/site-packages/ovito/io/import_file_func.py:151\u001b[0m, in \u001b[0;36mimport_file\u001b[0;34m(location, **params)\u001b[0m\n\u001b[1;32m    148\u001b[0m     importer \u001b[38;5;241m=\u001b[39m import_file\u001b[38;5;241m.\u001b[39m_formatTable[\u001b[38;5;28mformat\u001b[39m]()\n\u001b[1;32m    149\u001b[0m \u001b[38;5;28;01melse\u001b[39;00m:\n\u001b[1;32m    150\u001b[0m     \u001b[38;5;66;03m# Auto-detect the file's format if caller did not specify the format explicitly.\u001b[39;00m\n\u001b[0;32m--> 151\u001b[0m     importer \u001b[38;5;241m=\u001b[39m \u001b[43mFileImporter\u001b[49m\u001b[38;5;241;43m.\u001b[39;49m\u001b[43mautodetect_format\u001b[49m\u001b[43m(\u001b[49m\u001b[43mfirst_location\u001b[49m\u001b[43m)\u001b[49m\n\u001b[1;32m    152\u001b[0m     \u001b[38;5;28;01mif\u001b[39;00m \u001b[38;5;129;01mnot\u001b[39;00m importer:\n\u001b[1;32m    153\u001b[0m         \u001b[38;5;28;01mraise\u001b[39;00m \u001b[38;5;167;01mRuntimeError\u001b[39;00m(\u001b[38;5;124m\"\u001b[39m\u001b[38;5;124mCould not detect the file format. The format might not be supported.\u001b[39m\u001b[38;5;124m\"\u001b[39m)\n",
      "\u001b[0;31mRuntimeError\u001b[0m: File does not exist:\nsimulation.xyz"
     ]
    }
   ],
   "source": [
    "pipeline = import_file(\"simulation.xyz\", columns =\n",
    "         [\"Particle Type\", \"Position.X\", \"Position.Y\", \"Position.Z\", \"My Property\"])"
   ]
  },
  {
   "cell_type": "markdown",
   "id": "e37f2f83",
   "metadata": {},
   "source": [
    "# 数据导出"
   ]
  },
  {
   "cell_type": "code",
   "execution_count": 8,
   "id": "3e207306",
   "metadata": {},
   "outputs": [
    {
     "ename": "NameError",
     "evalue": "name 'pipeline' is not defined",
     "output_type": "error",
     "traceback": [
      "\u001b[0;31m---------------------------------------------------------------------------\u001b[0m",
      "\u001b[0;31mNameError\u001b[0m                                 Traceback (most recent call last)",
      "Cell \u001b[0;32mIn [8], line 3\u001b[0m\n\u001b[1;32m      1\u001b[0m \u001b[38;5;28;01mfrom\u001b[39;00m \u001b[38;5;21;01movito\u001b[39;00m\u001b[38;5;21;01m.\u001b[39;00m\u001b[38;5;21;01mio\u001b[39;00m \u001b[38;5;28;01mimport\u001b[39;00m export_file\n\u001b[0;32m----> 3\u001b[0m export_file(\u001b[43mpipeline\u001b[49m, \u001b[38;5;124m\"\u001b[39m\u001b[38;5;124moutputfile.dump\u001b[39m\u001b[38;5;124m\"\u001b[39m, \u001b[38;5;124m\"\u001b[39m\u001b[38;5;124mlammps/dump\u001b[39m\u001b[38;5;124m\"\u001b[39m,\n\u001b[1;32m      4\u001b[0m     columns \u001b[38;5;241m=\u001b[39m [\u001b[38;5;124m\"\u001b[39m\u001b[38;5;124mPosition.X\u001b[39m\u001b[38;5;124m\"\u001b[39m, \u001b[38;5;124m\"\u001b[39m\u001b[38;5;124mPosition.Y\u001b[39m\u001b[38;5;124m\"\u001b[39m, \u001b[38;5;124m\"\u001b[39m\u001b[38;5;124mPosition.Z\u001b[39m\u001b[38;5;124m\"\u001b[39m, \u001b[38;5;124m\"\u001b[39m\u001b[38;5;124mMy Property\u001b[39m\u001b[38;5;124m\"\u001b[39m])\n",
      "\u001b[0;31mNameError\u001b[0m: name 'pipeline' is not defined"
     ]
    }
   ],
   "source": [
    "from ovito.io import export_file\n",
    "\n",
    "export_file(pipeline, \"outputfile.dump\", \"lammps/dump\",\n",
    "    columns = [\"Position.X\", \"Position.Y\", \"Position.Z\", \"My Property\"])"
   ]
  },
  {
   "cell_type": "code",
   "execution_count": 9,
   "id": "8787be70",
   "metadata": {},
   "outputs": [
    {
     "ename": "RuntimeError",
     "evalue": "There are no files in the directory matching the filename pattern.",
     "output_type": "error",
     "traceback": [
      "\u001b[0;31m---------------------------------------------------------------------------\u001b[0m",
      "\u001b[0;31mRuntimeError\u001b[0m                              Traceback (most recent call last)",
      "Cell \u001b[0;32mIn [9], line 1\u001b[0m\n\u001b[0;32m----> 1\u001b[0m pipeline \u001b[38;5;241m=\u001b[39m \u001b[43mimport_file\u001b[49m\u001b[43m(\u001b[49m\u001b[38;5;124;43m\"\u001b[39;49m\u001b[38;5;124;43msimulation*.dump\u001b[39;49m\u001b[38;5;124;43m\"\u001b[39;49m\u001b[43m)\u001b[49m\n\u001b[1;32m      3\u001b[0m modifier \u001b[38;5;241m=\u001b[39m ExpressionSelectionModifier(expression \u001b[38;5;241m=\u001b[39m \u001b[38;5;124m\"\u001b[39m\u001b[38;5;124mPotentialEnergy < -3.9\u001b[39m\u001b[38;5;124m\"\u001b[39m)\n\u001b[1;32m      4\u001b[0m pipeline\u001b[38;5;241m.\u001b[39mmodifiers\u001b[38;5;241m.\u001b[39mappend(modifier)\n",
      "File \u001b[0;32m/usr/local/anaconda3/envs/ovitoenvs/lib/python3.10/site-packages/ovito/io/import_file_func.py:151\u001b[0m, in \u001b[0;36mimport_file\u001b[0;34m(location, **params)\u001b[0m\n\u001b[1;32m    148\u001b[0m     importer \u001b[38;5;241m=\u001b[39m import_file\u001b[38;5;241m.\u001b[39m_formatTable[\u001b[38;5;28mformat\u001b[39m]()\n\u001b[1;32m    149\u001b[0m \u001b[38;5;28;01melse\u001b[39;00m:\n\u001b[1;32m    150\u001b[0m     \u001b[38;5;66;03m# Auto-detect the file's format if caller did not specify the format explicitly.\u001b[39;00m\n\u001b[0;32m--> 151\u001b[0m     importer \u001b[38;5;241m=\u001b[39m \u001b[43mFileImporter\u001b[49m\u001b[38;5;241;43m.\u001b[39;49m\u001b[43mautodetect_format\u001b[49m\u001b[43m(\u001b[49m\u001b[43mfirst_location\u001b[49m\u001b[43m)\u001b[49m\n\u001b[1;32m    152\u001b[0m     \u001b[38;5;28;01mif\u001b[39;00m \u001b[38;5;129;01mnot\u001b[39;00m importer:\n\u001b[1;32m    153\u001b[0m         \u001b[38;5;28;01mraise\u001b[39;00m \u001b[38;5;167;01mRuntimeError\u001b[39;00m(\u001b[38;5;124m\"\u001b[39m\u001b[38;5;124mCould not detect the file format. The format might not be supported.\u001b[39m\u001b[38;5;124m\"\u001b[39m)\n",
      "\u001b[0;31mRuntimeError\u001b[0m: There are no files in the directory matching the filename pattern."
     ]
    }
   ],
   "source": [
    "pipeline = import_file(\"simulation*.dump\")\n",
    "\n",
    "modifier = ExpressionSelectionModifier(expression = \"PotentialEnergy < -3.9\")\n",
    "pipeline.modifiers.append(modifier)\n",
    "\n",
    "export_file(pipeline, \"potenergy.txt\", \"txt/attr\", multiple_frames = True,\n",
    "         columns = [\"Frame\", \"ExpressionSelection.count\"])"
   ]
  },
  {
   "cell_type": "markdown",
   "id": "0d17830f",
   "metadata": {},
   "source": [
    "\\# \"Frame\" \"ExpressionSelection.count\"\n",
    "\n",
    "0 531\n",
    "\n",
    "1 540\n",
    "\n",
    "2 522\n",
    "\n",
    "3 502\n",
    "\n",
    "..."
   ]
  },
  {
   "cell_type": "code",
   "execution_count": null,
   "id": "9879d42d",
   "metadata": {},
   "outputs": [],
   "source": []
  }
 ],
 "metadata": {
  "kernelspec": {
   "display_name": "Python [conda env:ovitoenvs]",
   "language": "python",
   "name": "conda-env-ovitoenvs-py"
  },
  "language_info": {
   "codemirror_mode": {
    "name": "ipython",
    "version": 3
   },
   "file_extension": ".py",
   "mimetype": "text/x-python",
   "name": "python",
   "nbconvert_exporter": "python",
   "pygments_lexer": "ipython3",
   "version": "3.10.6"
  }
 },
 "nbformat": 4,
 "nbformat_minor": 5
}

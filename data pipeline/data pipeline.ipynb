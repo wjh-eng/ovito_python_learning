{
 "cells": [
  {
   "cell_type": "markdown",
   "id": "38f123d4",
   "metadata": {},
   "source": [
    "# 数据管道"
   ]
  },
  {
   "cell_type": "code",
   "execution_count": 1,
   "id": "bcc5dfa0",
   "metadata": {},
   "outputs": [
    {
     "name": "stderr",
     "output_type": "stream",
     "text": [
      "Warning: Ignoring XDG_SESSION_TYPE=wayland on Gnome. Use QT_QPA_PLATFORM=wayland to run on Wayland anyway.\n"
     ]
    },
    {
     "ename": "NameError",
     "evalue": "name 'pipeline' is not defined",
     "output_type": "error",
     "traceback": [
      "\u001b[0;31m---------------------------------------------------------------------------\u001b[0m",
      "\u001b[0;31mNameError\u001b[0m                                 Traceback (most recent call last)",
      "Cell \u001b[0;32mIn [1], line 4\u001b[0m\n\u001b[1;32m      1\u001b[0m \u001b[38;5;28;01mfrom\u001b[39;00m \u001b[38;5;21;01movito\u001b[39;00m\u001b[38;5;21;01m.\u001b[39;00m\u001b[38;5;21;01mmodifiers\u001b[39;00m \u001b[38;5;28;01mimport\u001b[39;00m AssignColorModifier\n\u001b[1;32m      3\u001b[0m modifier \u001b[38;5;241m=\u001b[39m AssignColorModifier(color \u001b[38;5;241m=\u001b[39m (\u001b[38;5;241m0.5\u001b[39m, \u001b[38;5;241m1.0\u001b[39m, \u001b[38;5;241m0.0\u001b[39m))\n\u001b[0;32m----> 4\u001b[0m \u001b[43mpipeline\u001b[49m\u001b[38;5;241m.\u001b[39mmodifiers\u001b[38;5;241m.\u001b[39mappend(modifier)\n",
      "\u001b[0;31mNameError\u001b[0m: name 'pipeline' is not defined"
     ]
    }
   ],
   "source": [
    "from ovito.modifiers import AssignColorModifier\n",
    "\n",
    "modifier = AssignColorModifier(color = (0.5, 1.0, 0.0))\n",
    "pipeline.modifiers.append(modifier)"
   ]
  },
  {
   "cell_type": "markdown",
   "id": "11f6c9f3",
   "metadata": {},
   "source": [
    "![管道模型](Pipeline.svg)"
   ]
  },
  {
   "cell_type": "markdown",
   "id": "b27f575f",
   "metadata": {},
   "source": [
    "触发修改的情况：\n",
    "\n",
    "rendering an image or movie,\n",
    "\n",
    "updating the interactive viewports in OVITO’s graphical user interface,\n",
    "\n",
    "or exporting data using the ovito.io.export_file() function."
   ]
  },
  {
   "cell_type": "code",
   "execution_count": 2,
   "id": "d4f5b379",
   "metadata": {},
   "outputs": [
    {
     "ename": "NameError",
     "evalue": "name 'pipeline' is not defined",
     "output_type": "error",
     "traceback": [
      "\u001b[0;31m---------------------------------------------------------------------------\u001b[0m",
      "\u001b[0;31mNameError\u001b[0m                                 Traceback (most recent call last)",
      "Cell \u001b[0;32mIn [2], line 1\u001b[0m\n\u001b[0;32m----> 1\u001b[0m data \u001b[38;5;241m=\u001b[39m \u001b[43mpipeline\u001b[49m\u001b[38;5;241m.\u001b[39mcompute()\n",
      "\u001b[0;31mNameError\u001b[0m: name 'pipeline' is not defined"
     ]
    }
   ],
   "source": [
    "data = pipeline.compute()"
   ]
  },
  {
   "cell_type": "markdown",
   "id": "07a338f7",
   "metadata": {},
   "source": [
    "返回datacollection对象"
   ]
  },
  {
   "cell_type": "code",
   "execution_count": 3,
   "id": "89889d4e",
   "metadata": {},
   "outputs": [
    {
     "ename": "NameError",
     "evalue": "name 'import_file' is not defined",
     "output_type": "error",
     "traceback": [
      "\u001b[0;31m---------------------------------------------------------------------------\u001b[0m",
      "\u001b[0;31mNameError\u001b[0m                                 Traceback (most recent call last)",
      "Cell \u001b[0;32mIn [3], line 2\u001b[0m\n\u001b[1;32m      1\u001b[0m \u001b[38;5;66;03m# Set up a new pipeline containing one modifier:\u001b[39;00m\n\u001b[0;32m----> 2\u001b[0m pipeline \u001b[38;5;241m=\u001b[39m \u001b[43mimport_file\u001b[49m(\u001b[38;5;124m\"\u001b[39m\u001b[38;5;124msimulation.dump\u001b[39m\u001b[38;5;124m\"\u001b[39m)\n\u001b[1;32m      3\u001b[0m pipeline\u001b[38;5;241m.\u001b[39mmodifiers\u001b[38;5;241m.\u001b[39mappend(AssignColorModifier(color \u001b[38;5;241m=\u001b[39m (\u001b[38;5;241m0.5\u001b[39m, \u001b[38;5;241m1.0\u001b[39m, \u001b[38;5;241m0.0\u001b[39m)))\n\u001b[1;32m      5\u001b[0m \u001b[38;5;66;03m# Evaluate the current pipeline a first time:\u001b[39;00m\n",
      "\u001b[0;31mNameError\u001b[0m: name 'import_file' is not defined"
     ]
    }
   ],
   "source": [
    "# Set up a new pipeline containing one modifier:\n",
    "pipeline = import_file(\"simulation.dump\")\n",
    "pipeline.modifiers.append(AssignColorModifier(color = (0.5, 1.0, 0.0)))\n",
    "\n",
    "# Evaluate the current pipeline a first time:\n",
    "data1 = pipeline.compute()\n",
    "\n",
    "# Now altering the pipeline by e.g. changing parameters or appending modifiers:\n",
    "pipeline.modifiers[0].color = (0.8, 0.8, 1.0)\n",
    "pipeline.modifiers.append(CoordinationAnalysisModifier(cutoff = 5.0))\n",
    "\n",
    "# Evaluate the pipeline a second time, now yielding new results:\n",
    "data2 = pipeline.compute()"
   ]
  },
  {
   "cell_type": "markdown",
   "id": "fe7e4d54",
   "metadata": {},
   "source": [
    "## 处理模拟轨迹"
   ]
  },
  {
   "cell_type": "code",
   "execution_count": 4,
   "id": "64457adf",
   "metadata": {},
   "outputs": [
    {
     "ename": "NameError",
     "evalue": "name 'import_file' is not defined",
     "output_type": "error",
     "traceback": [
      "\u001b[0;31m---------------------------------------------------------------------------\u001b[0m",
      "\u001b[0;31mNameError\u001b[0m                                 Traceback (most recent call last)",
      "Cell \u001b[0;32mIn [4], line 1\u001b[0m\n\u001b[0;32m----> 1\u001b[0m pipeline \u001b[38;5;241m=\u001b[39m \u001b[43mimport_file\u001b[49m(\u001b[38;5;124m\"\u001b[39m\u001b[38;5;124mtrajectory_*.dump\u001b[39m\u001b[38;5;124m\"\u001b[39m)\n\u001b[1;32m      2\u001b[0m data_frame0 \u001b[38;5;241m=\u001b[39m pipeline\u001b[38;5;241m.\u001b[39mcompute(\u001b[38;5;241m0\u001b[39m)\n\u001b[1;32m      3\u001b[0m data_frame1 \u001b[38;5;241m=\u001b[39m pipeline\u001b[38;5;241m.\u001b[39mcompute(\u001b[38;5;241m1\u001b[39m)\n",
      "\u001b[0;31mNameError\u001b[0m: name 'import_file' is not defined"
     ]
    }
   ],
   "source": [
    "pipeline = import_file(\"trajectory_*.dump\")\n",
    "data_frame0 = pipeline.compute(0)\n",
    "data_frame1 = pipeline.compute(1)\n",
    "data_frame2 = pipeline.compute(2)"
   ]
  },
  {
   "cell_type": "code",
   "execution_count": 5,
   "id": "e0b23cea",
   "metadata": {},
   "outputs": [
    {
     "ename": "NameError",
     "evalue": "name 'pipeline' is not defined",
     "output_type": "error",
     "traceback": [
      "\u001b[0;31m---------------------------------------------------------------------------\u001b[0m",
      "\u001b[0;31mNameError\u001b[0m                                 Traceback (most recent call last)",
      "Cell \u001b[0;32mIn [5], line 1\u001b[0m\n\u001b[0;32m----> 1\u001b[0m \u001b[38;5;28;01mfor\u001b[39;00m frame \u001b[38;5;129;01min\u001b[39;00m \u001b[38;5;28mrange\u001b[39m(\u001b[43mpipeline\u001b[49m\u001b[38;5;241m.\u001b[39msource\u001b[38;5;241m.\u001b[39mnum_frames):\n\u001b[1;32m      2\u001b[0m     data \u001b[38;5;241m=\u001b[39m pipeline\u001b[38;5;241m.\u001b[39mcompute(frame)\n",
      "\u001b[0;31mNameError\u001b[0m: name 'pipeline' is not defined"
     ]
    }
   ],
   "source": [
    "for frame in range(pipeline.source.num_frames):\n",
    "    data = pipeline.compute(frame)"
   ]
  },
  {
   "cell_type": "code",
   "execution_count": 6,
   "id": "df91e41e",
   "metadata": {},
   "outputs": [
    {
     "ename": "NameError",
     "evalue": "name 'pipeline' is not defined",
     "output_type": "error",
     "traceback": [
      "\u001b[0;31m---------------------------------------------------------------------------\u001b[0m",
      "\u001b[0;31mNameError\u001b[0m                                 Traceback (most recent call last)",
      "Cell \u001b[0;32mIn [6], line 2\u001b[0m\n\u001b[1;32m      1\u001b[0m \u001b[38;5;66;03m# WRONG APPROACH:\u001b[39;00m\n\u001b[0;32m----> 2\u001b[0m \u001b[38;5;28;01mfor\u001b[39;00m frame \u001b[38;5;129;01min\u001b[39;00m \u001b[38;5;28mrange\u001b[39m(\u001b[43mpipeline\u001b[49m\u001b[38;5;241m.\u001b[39msource\u001b[38;5;241m.\u001b[39mnum_frames):\n\u001b[1;32m      3\u001b[0m     pipeline\u001b[38;5;241m.\u001b[39mmodifiers\u001b[38;5;241m.\u001b[39mappend(AtomicStrainModifier(cutoff \u001b[38;5;241m=\u001b[39m \u001b[38;5;241m3.2\u001b[39m))\n\u001b[1;32m      4\u001b[0m     data \u001b[38;5;241m=\u001b[39m pipeline\u001b[38;5;241m.\u001b[39mcompute(frame)\n",
      "\u001b[0;31mNameError\u001b[0m: name 'pipeline' is not defined"
     ]
    }
   ],
   "source": [
    "# WRONG APPROACH:\n",
    "for frame in range(pipeline.source.num_frames):\n",
    "    pipeline.modifiers.append(AtomicStrainModifier(cutoff = 3.2))\n",
    "    data = pipeline.compute(frame)\n",
    "    ..."
   ]
  },
  {
   "cell_type": "code",
   "execution_count": 7,
   "id": "1ed3630a",
   "metadata": {},
   "outputs": [
    {
     "ename": "NameError",
     "evalue": "name 'pipeline' is not defined",
     "output_type": "error",
     "traceback": [
      "\u001b[0;31m---------------------------------------------------------------------------\u001b[0m",
      "\u001b[0;31mNameError\u001b[0m                                 Traceback (most recent call last)",
      "Cell \u001b[0;32mIn [7], line 3\u001b[0m\n\u001b[1;32m      1\u001b[0m \u001b[38;5;66;03m# CORRECT APPROACH:\u001b[39;00m\n\u001b[1;32m      2\u001b[0m \u001b[38;5;66;03m# Step I: Populate the pipeline with modifiers:\u001b[39;00m\n\u001b[0;32m----> 3\u001b[0m \u001b[43mpipeline\u001b[49m\u001b[38;5;241m.\u001b[39mmodifiers\u001b[38;5;241m.\u001b[39mappend(AtomicStrainModifier(cutoff \u001b[38;5;241m=\u001b[39m \u001b[38;5;241m3.2\u001b[39m))\n\u001b[1;32m      5\u001b[0m \u001b[38;5;66;03m# Step II: Evaluate the pipeline in a loop over all frames:\u001b[39;00m\n\u001b[1;32m      6\u001b[0m \u001b[38;5;28;01mfor\u001b[39;00m frame \u001b[38;5;129;01min\u001b[39;00m \u001b[38;5;28mrange\u001b[39m(pipeline\u001b[38;5;241m.\u001b[39msource\u001b[38;5;241m.\u001b[39mnum_frames):\n",
      "\u001b[0;31mNameError\u001b[0m: name 'pipeline' is not defined"
     ]
    }
   ],
   "source": [
    "# CORRECT APPROACH:\n",
    "# Step I: Populate the pipeline with modifiers:\n",
    "pipeline.modifiers.append(AtomicStrainModifier(cutoff = 3.2))\n",
    "\n",
    "# Step II: Evaluate the pipeline in a loop over all frames:\n",
    "for frame in range(pipeline.source.num_frames):\n",
    "    data = pipeline.compute(frame)\n",
    "    ..."
   ]
  },
  {
   "cell_type": "code",
   "execution_count": null,
   "id": "92e3f9a5",
   "metadata": {},
   "outputs": [],
   "source": []
  }
 ],
 "metadata": {
  "kernelspec": {
   "display_name": "Python [conda env:ovitoenvs]",
   "language": "python",
   "name": "conda-env-ovitoenvs-py"
  },
  "language_info": {
   "codemirror_mode": {
    "name": "ipython",
    "version": 3
   },
   "file_extension": ".py",
   "mimetype": "text/x-python",
   "name": "python",
   "nbconvert_exporter": "python",
   "pygments_lexer": "ipython3",
   "version": "3.10.6"
  }
 },
 "nbformat": 4,
 "nbformat_minor": 5
}
